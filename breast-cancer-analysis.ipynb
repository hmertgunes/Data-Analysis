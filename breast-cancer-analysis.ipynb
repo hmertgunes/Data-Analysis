{
 "cells": [
  {
   "cell_type": "code",
   "execution_count": 1,
   "id": "6a42c820",
   "metadata": {},
   "outputs": [
    {
     "name": "stdout",
     "output_type": "stream",
     "text": [
      "2.8.0-dev20211025\n"
     ]
    }
   ],
   "source": [
    "import tensorflow as tf\n",
    "print(tf.__version__)"
   ]
  },
  {
   "cell_type": "code",
   "execution_count": 2,
   "id": "935f49ad",
   "metadata": {},
   "outputs": [],
   "source": [
    "# Importing dataset from sklearn library.\n",
    "from sklearn.datasets import load_breast_cancer\n",
    "data = load_breast_cancer()"
   ]
  },
  {
   "cell_type": "code",
   "execution_count": 3,
   "id": "fbcc9b56",
   "metadata": {},
   "outputs": [
    {
     "data": {
      "text/plain": [
       "array(['malignant', 'benign'], dtype='<U9')"
      ]
     },
     "execution_count": 3,
     "metadata": {},
     "output_type": "execute_result"
    }
   ],
   "source": [
    "# Learning target names\n",
    "data.target_names"
   ]
  },
  {
   "cell_type": "code",
   "execution_count": 4,
   "id": "79de6d8e",
   "metadata": {},
   "outputs": [],
   "source": [
    "from sklearn.model_selection import train_test_split\n",
    "import numpy as np"
   ]
  },
  {
   "cell_type": "code",
   "execution_count": 5,
   "id": "50dd47d4",
   "metadata": {},
   "outputs": [],
   "source": [
    "# Splitting data for test and train\n",
    "X_train, X_test, y_train, y_test = train_test_split(data.data, data.target, test_size= 0.3, random_state= 0)"
   ]
  },
  {
   "cell_type": "code",
   "execution_count": 6,
   "id": "101e3b18",
   "metadata": {},
   "outputs": [
    {
     "name": "stdout",
     "output_type": "stream",
     "text": [
      "Size of x train is 398 and size of x test is 171 .\n"
     ]
    }
   ],
   "source": [
    "print(f\"Size of x train is {X_train.shape[0]} and size of x test is {X_test.shape[0]} .\")"
   ]
  },
  {
   "cell_type": "code",
   "execution_count": 7,
   "id": "545088b1",
   "metadata": {},
   "outputs": [],
   "source": [
    "R, C = data.data.shape # R for rows and C for columns."
   ]
  },
  {
   "cell_type": "code",
   "execution_count": 8,
   "id": "8248dad1",
   "metadata": {},
   "outputs": [],
   "source": [
    "from sklearn.preprocessing import StandardScaler"
   ]
  },
  {
   "cell_type": "code",
   "execution_count": 9,
   "id": "ef5ee5b7",
   "metadata": {},
   "outputs": [],
   "source": [
    "# Scaling process for better fitting.\n",
    "sc = StandardScaler()\n",
    "X_train = sc.fit_transform(X_train)\n",
    "X_test = sc.transform(X_test)"
   ]
  },
  {
   "cell_type": "code",
   "execution_count": 10,
   "id": "a7ba46cb",
   "metadata": {},
   "outputs": [],
   "source": [
    "from keras.layers import Dense\n",
    "from keras.models import Sequential"
   ]
  },
  {
   "cell_type": "code",
   "execution_count": 11,
   "id": "2e6af5c4",
   "metadata": {},
   "outputs": [
    {
     "name": "stdout",
     "output_type": "stream",
     "text": [
      "Epoch 1/100\n",
      "13/13 [==============================] - 1s 13ms/step - loss: 0.6466 - accuracy: 0.5201 - val_loss: 0.6130 - val_accuracy: 0.5497\n",
      "Epoch 2/100\n",
      "13/13 [==============================] - 0s 3ms/step - loss: 0.5586 - accuracy: 0.5980 - val_loss: 0.5331 - val_accuracy: 0.7018\n",
      "Epoch 3/100\n",
      "13/13 [==============================] - 0s 4ms/step - loss: 0.4871 - accuracy: 0.7111 - val_loss: 0.4652 - val_accuracy: 0.7953\n",
      "Epoch 4/100\n",
      "13/13 [==============================] - 0s 3ms/step - loss: 0.4232 - accuracy: 0.8467 - val_loss: 0.4070 - val_accuracy: 0.8713\n",
      "Epoch 5/100\n",
      "13/13 [==============================] - 0s 3ms/step - loss: 0.3689 - accuracy: 0.9045 - val_loss: 0.3568 - val_accuracy: 0.9006\n",
      "Epoch 6/100\n",
      "13/13 [==============================] - 0s 3ms/step - loss: 0.3198 - accuracy: 0.9347 - val_loss: 0.3157 - val_accuracy: 0.9181\n",
      "Epoch 7/100\n",
      "13/13 [==============================] - 0s 3ms/step - loss: 0.2794 - accuracy: 0.9472 - val_loss: 0.2802 - val_accuracy: 0.9240\n",
      "Epoch 8/100\n",
      "13/13 [==============================] - 0s 3ms/step - loss: 0.2449 - accuracy: 0.9598 - val_loss: 0.2511 - val_accuracy: 0.9357\n",
      "Epoch 9/100\n",
      "13/13 [==============================] - 0s 4ms/step - loss: 0.2158 - accuracy: 0.9698 - val_loss: 0.2265 - val_accuracy: 0.9474\n",
      "Epoch 10/100\n",
      "13/13 [==============================] - 0s 3ms/step - loss: 0.1913 - accuracy: 0.9749 - val_loss: 0.2069 - val_accuracy: 0.9474\n",
      "Epoch 11/100\n",
      "13/13 [==============================] - 0s 3ms/step - loss: 0.1723 - accuracy: 0.9749 - val_loss: 0.1908 - val_accuracy: 0.9474\n",
      "Epoch 12/100\n",
      "13/13 [==============================] - 0s 3ms/step - loss: 0.1565 - accuracy: 0.9749 - val_loss: 0.1783 - val_accuracy: 0.9474\n",
      "Epoch 13/100\n",
      "13/13 [==============================] - 0s 4ms/step - loss: 0.1437 - accuracy: 0.9774 - val_loss: 0.1684 - val_accuracy: 0.9474\n",
      "Epoch 14/100\n",
      "13/13 [==============================] - 0s 3ms/step - loss: 0.1335 - accuracy: 0.9774 - val_loss: 0.1601 - val_accuracy: 0.9474\n",
      "Epoch 15/100\n",
      "13/13 [==============================] - 0s 4ms/step - loss: 0.1249 - accuracy: 0.9799 - val_loss: 0.1529 - val_accuracy: 0.9474\n",
      "Epoch 16/100\n",
      "13/13 [==============================] - 0s 4ms/step - loss: 0.1177 - accuracy: 0.9824 - val_loss: 0.1472 - val_accuracy: 0.9474\n",
      "Epoch 17/100\n",
      "13/13 [==============================] - 0s 3ms/step - loss: 0.1117 - accuracy: 0.9799 - val_loss: 0.1422 - val_accuracy: 0.9474\n",
      "Epoch 18/100\n",
      "13/13 [==============================] - 0s 3ms/step - loss: 0.1067 - accuracy: 0.9849 - val_loss: 0.1379 - val_accuracy: 0.9415\n",
      "Epoch 19/100\n",
      "13/13 [==============================] - 0s 3ms/step - loss: 0.1024 - accuracy: 0.9874 - val_loss: 0.1343 - val_accuracy: 0.9415\n",
      "Epoch 20/100\n",
      "13/13 [==============================] - 0s 4ms/step - loss: 0.0987 - accuracy: 0.9874 - val_loss: 0.1308 - val_accuracy: 0.9415\n",
      "Epoch 21/100\n",
      "13/13 [==============================] - 0s 4ms/step - loss: 0.0952 - accuracy: 0.9874 - val_loss: 0.1278 - val_accuracy: 0.9474\n",
      "Epoch 22/100\n",
      "13/13 [==============================] - 0s 4ms/step - loss: 0.0924 - accuracy: 0.9874 - val_loss: 0.1247 - val_accuracy: 0.9532\n",
      "Epoch 23/100\n",
      "13/13 [==============================] - 0s 3ms/step - loss: 0.0895 - accuracy: 0.9899 - val_loss: 0.1226 - val_accuracy: 0.9532\n",
      "Epoch 24/100\n",
      "13/13 [==============================] - 0s 3ms/step - loss: 0.0871 - accuracy: 0.9899 - val_loss: 0.1204 - val_accuracy: 0.9532\n",
      "Epoch 25/100\n",
      "13/13 [==============================] - 0s 3ms/step - loss: 0.0848 - accuracy: 0.9899 - val_loss: 0.1185 - val_accuracy: 0.9532\n",
      "Epoch 26/100\n",
      "13/13 [==============================] - 0s 3ms/step - loss: 0.0827 - accuracy: 0.9899 - val_loss: 0.1167 - val_accuracy: 0.9474\n",
      "Epoch 27/100\n",
      "13/13 [==============================] - 0s 3ms/step - loss: 0.0807 - accuracy: 0.9899 - val_loss: 0.1152 - val_accuracy: 0.9474\n",
      "Epoch 28/100\n",
      "13/13 [==============================] - 0s 3ms/step - loss: 0.0790 - accuracy: 0.9899 - val_loss: 0.1137 - val_accuracy: 0.9474\n",
      "Epoch 29/100\n",
      "13/13 [==============================] - 0s 3ms/step - loss: 0.0773 - accuracy: 0.9899 - val_loss: 0.1121 - val_accuracy: 0.9474\n",
      "Epoch 30/100\n",
      "13/13 [==============================] - 0s 3ms/step - loss: 0.0759 - accuracy: 0.9899 - val_loss: 0.1107 - val_accuracy: 0.9474\n",
      "Epoch 31/100\n",
      "13/13 [==============================] - 0s 4ms/step - loss: 0.0744 - accuracy: 0.9899 - val_loss: 0.1098 - val_accuracy: 0.9474\n",
      "Epoch 32/100\n",
      "13/13 [==============================] - 0s 4ms/step - loss: 0.0731 - accuracy: 0.9899 - val_loss: 0.1083 - val_accuracy: 0.9474\n",
      "Epoch 33/100\n",
      "13/13 [==============================] - 0s 3ms/step - loss: 0.0717 - accuracy: 0.9899 - val_loss: 0.1071 - val_accuracy: 0.9474\n",
      "Epoch 34/100\n",
      "13/13 [==============================] - 0s 3ms/step - loss: 0.0706 - accuracy: 0.9899 - val_loss: 0.1064 - val_accuracy: 0.9474\n",
      "Epoch 35/100\n",
      "13/13 [==============================] - 0s 3ms/step - loss: 0.0695 - accuracy: 0.9899 - val_loss: 0.1055 - val_accuracy: 0.9474\n",
      "Epoch 36/100\n",
      "13/13 [==============================] - 0s 4ms/step - loss: 0.0684 - accuracy: 0.9899 - val_loss: 0.1047 - val_accuracy: 0.9474\n",
      "Epoch 37/100\n",
      "13/13 [==============================] - 0s 4ms/step - loss: 0.0675 - accuracy: 0.9899 - val_loss: 0.1035 - val_accuracy: 0.9474\n",
      "Epoch 38/100\n",
      "13/13 [==============================] - 0s 4ms/step - loss: 0.0665 - accuracy: 0.9899 - val_loss: 0.1028 - val_accuracy: 0.9474\n",
      "Epoch 39/100\n",
      "13/13 [==============================] - 0s 3ms/step - loss: 0.0656 - accuracy: 0.9899 - val_loss: 0.1023 - val_accuracy: 0.9474\n",
      "Epoch 40/100\n",
      "13/13 [==============================] - 0s 4ms/step - loss: 0.0648 - accuracy: 0.9899 - val_loss: 0.1018 - val_accuracy: 0.9474\n",
      "Epoch 41/100\n",
      "13/13 [==============================] - 0s 3ms/step - loss: 0.0638 - accuracy: 0.9899 - val_loss: 0.1010 - val_accuracy: 0.9474\n",
      "Epoch 42/100\n",
      "13/13 [==============================] - 0s 4ms/step - loss: 0.0631 - accuracy: 0.9899 - val_loss: 0.1002 - val_accuracy: 0.9474\n",
      "Epoch 43/100\n",
      "13/13 [==============================] - 0s 3ms/step - loss: 0.0624 - accuracy: 0.9899 - val_loss: 0.0994 - val_accuracy: 0.9474\n",
      "Epoch 44/100\n",
      "13/13 [==============================] - 0s 4ms/step - loss: 0.0617 - accuracy: 0.9899 - val_loss: 0.0991 - val_accuracy: 0.9532\n",
      "Epoch 45/100\n",
      "13/13 [==============================] - 0s 4ms/step - loss: 0.0609 - accuracy: 0.9899 - val_loss: 0.0984 - val_accuracy: 0.9532\n",
      "Epoch 46/100\n",
      "13/13 [==============================] - 0s 4ms/step - loss: 0.0602 - accuracy: 0.9899 - val_loss: 0.0979 - val_accuracy: 0.9591\n",
      "Epoch 47/100\n",
      "13/13 [==============================] - 0s 3ms/step - loss: 0.0596 - accuracy: 0.9899 - val_loss: 0.0974 - val_accuracy: 0.9591\n",
      "Epoch 48/100\n",
      "13/13 [==============================] - 0s 3ms/step - loss: 0.0589 - accuracy: 0.9899 - val_loss: 0.0972 - val_accuracy: 0.9591\n",
      "Epoch 49/100\n",
      "13/13 [==============================] - 0s 4ms/step - loss: 0.0584 - accuracy: 0.9899 - val_loss: 0.0968 - val_accuracy: 0.9591\n",
      "Epoch 50/100\n",
      "13/13 [==============================] - 0s 4ms/step - loss: 0.0578 - accuracy: 0.9899 - val_loss: 0.0962 - val_accuracy: 0.9591\n",
      "Epoch 51/100\n",
      "13/13 [==============================] - 0s 4ms/step - loss: 0.0572 - accuracy: 0.9899 - val_loss: 0.0957 - val_accuracy: 0.9591\n",
      "Epoch 52/100\n",
      "13/13 [==============================] - 0s 3ms/step - loss: 0.0567 - accuracy: 0.9899 - val_loss: 0.0959 - val_accuracy: 0.9649\n",
      "Epoch 53/100\n",
      "13/13 [==============================] - 0s 3ms/step - loss: 0.0560 - accuracy: 0.9899 - val_loss: 0.0957 - val_accuracy: 0.9649\n",
      "Epoch 54/100\n",
      "13/13 [==============================] - 0s 3ms/step - loss: 0.0555 - accuracy: 0.9899 - val_loss: 0.0954 - val_accuracy: 0.9649\n",
      "Epoch 55/100\n",
      "13/13 [==============================] - 0s 3ms/step - loss: 0.0549 - accuracy: 0.9899 - val_loss: 0.0950 - val_accuracy: 0.9649\n",
      "Epoch 56/100\n",
      "13/13 [==============================] - 0s 4ms/step - loss: 0.0544 - accuracy: 0.9899 - val_loss: 0.0948 - val_accuracy: 0.9649\n",
      "Epoch 57/100\n",
      "13/13 [==============================] - 0s 4ms/step - loss: 0.0541 - accuracy: 0.9899 - val_loss: 0.0947 - val_accuracy: 0.9649\n",
      "Epoch 58/100\n",
      "13/13 [==============================] - 0s 3ms/step - loss: 0.0534 - accuracy: 0.9899 - val_loss: 0.0943 - val_accuracy: 0.9649\n"
     ]
    },
    {
     "name": "stdout",
     "output_type": "stream",
     "text": [
      "Epoch 59/100\n",
      "13/13 [==============================] - 0s 3ms/step - loss: 0.0530 - accuracy: 0.9899 - val_loss: 0.0940 - val_accuracy: 0.9649\n",
      "Epoch 60/100\n",
      "13/13 [==============================] - 0s 3ms/step - loss: 0.0525 - accuracy: 0.9899 - val_loss: 0.0939 - val_accuracy: 0.9649\n",
      "Epoch 61/100\n",
      "13/13 [==============================] - 0s 3ms/step - loss: 0.0521 - accuracy: 0.9899 - val_loss: 0.0938 - val_accuracy: 0.9649\n",
      "Epoch 62/100\n",
      "13/13 [==============================] - 0s 4ms/step - loss: 0.0516 - accuracy: 0.9899 - val_loss: 0.0933 - val_accuracy: 0.9649\n",
      "Epoch 63/100\n",
      "13/13 [==============================] - 0s 3ms/step - loss: 0.0512 - accuracy: 0.9899 - val_loss: 0.0934 - val_accuracy: 0.9649\n",
      "Epoch 64/100\n",
      "13/13 [==============================] - 0s 3ms/step - loss: 0.0508 - accuracy: 0.9899 - val_loss: 0.0934 - val_accuracy: 0.9649\n",
      "Epoch 65/100\n",
      "13/13 [==============================] - 0s 3ms/step - loss: 0.0503 - accuracy: 0.9899 - val_loss: 0.0934 - val_accuracy: 0.9649\n",
      "Epoch 66/100\n",
      "13/13 [==============================] - 0s 3ms/step - loss: 0.0500 - accuracy: 0.9899 - val_loss: 0.0934 - val_accuracy: 0.9649\n",
      "Epoch 67/100\n",
      "13/13 [==============================] - 0s 4ms/step - loss: 0.0496 - accuracy: 0.9899 - val_loss: 0.0937 - val_accuracy: 0.9649\n",
      "Epoch 68/100\n",
      "13/13 [==============================] - 0s 3ms/step - loss: 0.0492 - accuracy: 0.9899 - val_loss: 0.0937 - val_accuracy: 0.9649\n",
      "Epoch 69/100\n",
      "13/13 [==============================] - 0s 4ms/step - loss: 0.0487 - accuracy: 0.9899 - val_loss: 0.0934 - val_accuracy: 0.9649\n",
      "Epoch 70/100\n",
      "13/13 [==============================] - 0s 3ms/step - loss: 0.0485 - accuracy: 0.9899 - val_loss: 0.0936 - val_accuracy: 0.9649\n",
      "Epoch 71/100\n",
      "13/13 [==============================] - 0s 3ms/step - loss: 0.0481 - accuracy: 0.9899 - val_loss: 0.0933 - val_accuracy: 0.9649\n",
      "Epoch 72/100\n",
      "13/13 [==============================] - 0s 3ms/step - loss: 0.0477 - accuracy: 0.9899 - val_loss: 0.0933 - val_accuracy: 0.9649\n",
      "Epoch 73/100\n",
      "13/13 [==============================] - 0s 3ms/step - loss: 0.0474 - accuracy: 0.9899 - val_loss: 0.0936 - val_accuracy: 0.9649\n",
      "Epoch 74/100\n",
      "13/13 [==============================] - 0s 3ms/step - loss: 0.0470 - accuracy: 0.9899 - val_loss: 0.0934 - val_accuracy: 0.9649\n",
      "Epoch 75/100\n",
      "13/13 [==============================] - 0s 3ms/step - loss: 0.0468 - accuracy: 0.9899 - val_loss: 0.0938 - val_accuracy: 0.9649\n",
      "Epoch 76/100\n",
      "13/13 [==============================] - 0s 3ms/step - loss: 0.0463 - accuracy: 0.9899 - val_loss: 0.0937 - val_accuracy: 0.9649\n",
      "Epoch 77/100\n",
      "13/13 [==============================] - 0s 3ms/step - loss: 0.0462 - accuracy: 0.9899 - val_loss: 0.0933 - val_accuracy: 0.9649\n",
      "Epoch 78/100\n",
      "13/13 [==============================] - 0s 3ms/step - loss: 0.0457 - accuracy: 0.9899 - val_loss: 0.0936 - val_accuracy: 0.9649\n",
      "Epoch 79/100\n",
      "13/13 [==============================] - 0s 4ms/step - loss: 0.0455 - accuracy: 0.9874 - val_loss: 0.0947 - val_accuracy: 0.9649\n",
      "Epoch 80/100\n",
      "13/13 [==============================] - 0s 3ms/step - loss: 0.0453 - accuracy: 0.9874 - val_loss: 0.0953 - val_accuracy: 0.9591\n",
      "Epoch 81/100\n",
      "13/13 [==============================] - 0s 3ms/step - loss: 0.0448 - accuracy: 0.9874 - val_loss: 0.0950 - val_accuracy: 0.9649\n",
      "Epoch 82/100\n",
      "13/13 [==============================] - 0s 3ms/step - loss: 0.0445 - accuracy: 0.9874 - val_loss: 0.0950 - val_accuracy: 0.9649\n",
      "Epoch 83/100\n",
      "13/13 [==============================] - 0s 3ms/step - loss: 0.0442 - accuracy: 0.9874 - val_loss: 0.0946 - val_accuracy: 0.9649\n",
      "Epoch 84/100\n",
      "13/13 [==============================] - 0s 3ms/step - loss: 0.0440 - accuracy: 0.9874 - val_loss: 0.0958 - val_accuracy: 0.9591\n",
      "Epoch 85/100\n",
      "13/13 [==============================] - 0s 3ms/step - loss: 0.0436 - accuracy: 0.9874 - val_loss: 0.0956 - val_accuracy: 0.9649\n",
      "Epoch 86/100\n",
      "13/13 [==============================] - 0s 3ms/step - loss: 0.0433 - accuracy: 0.9874 - val_loss: 0.0955 - val_accuracy: 0.9649\n",
      "Epoch 87/100\n",
      "13/13 [==============================] - 0s 3ms/step - loss: 0.0430 - accuracy: 0.9874 - val_loss: 0.0956 - val_accuracy: 0.9649\n",
      "Epoch 88/100\n",
      "13/13 [==============================] - 0s 3ms/step - loss: 0.0427 - accuracy: 0.9874 - val_loss: 0.0957 - val_accuracy: 0.9591\n",
      "Epoch 89/100\n",
      "13/13 [==============================] - 0s 4ms/step - loss: 0.0425 - accuracy: 0.9874 - val_loss: 0.0956 - val_accuracy: 0.9649\n",
      "Epoch 90/100\n",
      "13/13 [==============================] - 0s 3ms/step - loss: 0.0422 - accuracy: 0.9874 - val_loss: 0.0958 - val_accuracy: 0.9591\n",
      "Epoch 91/100\n",
      "13/13 [==============================] - 0s 3ms/step - loss: 0.0420 - accuracy: 0.9874 - val_loss: 0.0963 - val_accuracy: 0.9591\n",
      "Epoch 92/100\n",
      "13/13 [==============================] - 0s 3ms/step - loss: 0.0416 - accuracy: 0.9874 - val_loss: 0.0963 - val_accuracy: 0.9591\n",
      "Epoch 93/100\n",
      "13/13 [==============================] - 0s 3ms/step - loss: 0.0413 - accuracy: 0.9874 - val_loss: 0.0962 - val_accuracy: 0.9591\n",
      "Epoch 94/100\n",
      "13/13 [==============================] - 0s 3ms/step - loss: 0.0412 - accuracy: 0.9874 - val_loss: 0.0967 - val_accuracy: 0.9591\n",
      "Epoch 95/100\n",
      "13/13 [==============================] - 0s 4ms/step - loss: 0.0411 - accuracy: 0.9874 - val_loss: 0.0968 - val_accuracy: 0.9591\n",
      "Epoch 96/100\n",
      "13/13 [==============================] - 0s 4ms/step - loss: 0.0408 - accuracy: 0.9874 - val_loss: 0.0968 - val_accuracy: 0.9591\n",
      "Epoch 97/100\n",
      "13/13 [==============================] - 0s 3ms/step - loss: 0.0404 - accuracy: 0.9899 - val_loss: 0.0973 - val_accuracy: 0.9591\n",
      "Epoch 98/100\n",
      "13/13 [==============================] - 0s 3ms/step - loss: 0.0403 - accuracy: 0.9874 - val_loss: 0.0987 - val_accuracy: 0.9591\n",
      "Epoch 99/100\n",
      "13/13 [==============================] - 0s 3ms/step - loss: 0.0400 - accuracy: 0.9874 - val_loss: 0.0993 - val_accuracy: 0.9532\n",
      "Epoch 100/100\n",
      "13/13 [==============================] - 0s 4ms/step - loss: 0.0396 - accuracy: 0.9874 - val_loss: 0.0990 - val_accuracy: 0.9591\n"
     ]
    }
   ],
   "source": [
    "model = Sequential()\n",
    "\n",
    "model.add(Dense(7, input_shape= (C,), activation= \"relu\"))\n",
    "model.add(Dense(1, activation= \"sigmoid\"))\n",
    "model.compile(optimizer=\"adam\", loss= \"binary_crossentropy\", metrics=[\"accuracy\"])\n",
    "\n",
    "r = model.fit(X_train, y_train, validation_data=(X_test, y_test), epochs=100)"
   ]
  },
  {
   "cell_type": "code",
   "execution_count": 12,
   "id": "3a427143",
   "metadata": {},
   "outputs": [
    {
     "data": {
      "text/plain": [
       "<function matplotlib.pyplot.legend(*args, **kwargs)>"
      ]
     },
     "execution_count": 12,
     "metadata": {},
     "output_type": "execute_result"
    },
    {
     "data": {
      "image/png": "[encoded data removed]",
      "text/plain": [
       "<Figure size 432x288 with 1 Axes>"
      ]
     },
     "metadata": {
      "needs_background": "light"
     },
     "output_type": "display_data"
    }
   ],
   "source": [
    "import matplotlib.pyplot as plt\n",
    "%matplotlib inline\n",
    "plt.plot(r.history[\"loss\"], label= \"loss\")\n",
    "plt.plot(r.history[\"val_loss\"], label= \"val_loss\")\n",
    "plt.legend"
   ]
  },
  {
   "cell_type": "code",
   "execution_count": 13,
   "id": "15c30bcc",
   "metadata": {},
   "outputs": [
    {
     "data": {
      "text/plain": [
       "<function matplotlib.pyplot.legend(*args, **kwargs)>"
      ]
     },
     "execution_count": 13,
     "metadata": {},
     "output_type": "execute_result"
    },
    {
     "data": {
      "image/png": "[encoded data removed]",
      "text/plain": [
       "<Figure size 432x288 with 1 Axes>"
      ]
     },
     "metadata": {
      "needs_background": "light"
     },
     "output_type": "display_data"
    }
   ],
   "source": [
    "plt.plot(r.history[\"accuracy\"], label= \"accuracy\")\n",
    "plt.plot(r.history[\"val_accuracy\"], label= \"val_accuracy\")\n",
    "plt.legend"
   ]
  },
  {
   "cell_type": "code",
   "execution_count": 14,
   "id": "4cfc7294",
   "metadata": {},
   "outputs": [
    {
     "name": "stdout",
     "output_type": "stream",
     "text": [
      "13/13 [==============================] - 0s 1ms/step - loss: 0.0393 - accuracy: 0.9874\n",
      "Train score: [0.03932489827275276, 0.9874371886253357]\n",
      "6/6 [==============================] - 0s 2ms/step - loss: 0.0990 - accuracy: 0.9591\n",
      "Test score: [0.09898717701435089, 0.9590643048286438]\n"
     ]
    }
   ],
   "source": [
    "print(\"Train score:\", model.evaluate(X_train, y_train))\n",
    "print(\"Test score:\", model.evaluate(X_test, y_test))"
   ]
  },
  {
   "cell_type": "code",
   "execution_count": 15,
   "id": "daf81afa",
   "metadata": {},
   "outputs": [
    {
     "name": "stdout",
     "output_type": "stream",
     "text": [
      "[[ 60   3]\n",
      " [  4 104]]\n"
     ]
    }
   ],
   "source": [
    "# creating a confusion matrix to evaluate our predict\n",
    "from sklearn.metrics import confusion_matrix\n",
    "y_pred = model.predict(X_test)\n",
    "y_pred = np.round(y_pred).flatten()\n",
    "conf = confusion_matrix(y_test, y_pred)\n",
    "print(conf)"
   ]
  },
  {
   "cell_type": "code",
   "execution_count": 16,
   "id": "f6758207",
   "metadata": {},
   "outputs": [],
   "source": [
    "from sklearn.neural_network import MLPClassifier\n",
    "mlp = MLPClassifier(solver='lbfgs', alpha=1e-5, hidden_layer_sizes=(5, 2), random_state=1)\n",
    "mlp.fit(X_train, y_train)\n",
    "y_pred2 = mlp.predict(X_test)"
   ]
  },
  {
   "cell_type": "code",
   "execution_count": 17,
   "id": "6b191d5d",
   "metadata": {},
   "outputs": [
    {
     "name": "stdout",
     "output_type": "stream",
     "text": [
      "[[ 60   3]\n",
      " [  3 105]]\n"
     ]
    }
   ],
   "source": [
    "conf2 = confusion_matrix(y_pred2, y_test)\n",
    "print(conf2)"
   ]
  }
 ],
 "metadata": {
  "kernelspec": {
   "display_name": "Python 3.8.8 ('base': conda)",
   "language": "python",
   "name": "python388jvsc74a57bd05b1745ddb169a1e73536ee2b7992c9ef600264075962970028596e4156d8948a"
  },
  "language_info": {
   "codemirror_mode": {
    "name": "ipython",
    "version": 3
   },
   "file_extension": ".py",
   "mimetype": "text/x-python",
   "name": "python",
   "nbconvert_exporter": "python",
   "pygments_lexer": "ipython3",
   "version": "3.8.8"
  }
 },
 "nbformat": 4,
 "nbformat_minor": 5
}
