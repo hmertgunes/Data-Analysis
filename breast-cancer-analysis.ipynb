{
 "cells": [
  {
   "cell_type": "code",
   "execution_count": 4,
   "id": "6a42c820",
   "metadata": {},
   "outputs": [
    {
     "name": "stdout",
     "output_type": "stream",
     "text": [
      "2.8.0-dev20211025\n"
     ]
    }
   ],
   "source": [
    "import tensorflow as tf\n",
    "print(tf.__version__)"
   ]
  },
  {
   "cell_type": "code",
   "execution_count": 9,
   "id": "935f49ad",
   "metadata": {},
   "outputs": [],
   "source": [
    "# Importing dataset from sklearn library.\n",
    "from sklearn.datasets import load_breast_cancer\n",
    "data = load_breast_cancer()"
   ]
  },
  {
   "cell_type": "code",
   "execution_count": 14,
   "id": "fbcc9b56",
   "metadata": {},
   "outputs": [
    {
     "data": {
      "text/plain": [
       "array(['malignant', 'benign'], dtype='<U9')"
      ]
     },
     "execution_count": 14,
     "metadata": {},
     "output_type": "execute_result"
    }
   ],
   "source": [
    "# Learning target names\n",
    "data.target_names"
   ]
  },
  {
   "cell_type": "code",
   "execution_count": 16,
   "id": "79de6d8e",
   "metadata": {},
   "outputs": [],
   "source": [
    "from sklearn.model_selection import train_test_split\n",
    "import numpy as np"
   ]
  },
  {
   "cell_type": "code",
   "execution_count": 17,
   "id": "50dd47d4",
   "metadata": {},
   "outputs": [],
   "source": [
    "# Splitting data for test and train\n",
    "X_train, X_test, y_train, y_test = train_test_split(data.data, data.target, test_size= 0.3, random_state= 0)"
   ]
  },
  {
   "cell_type": "code",
   "execution_count": 25,
   "id": "101e3b18",
   "metadata": {},
   "outputs": [
    {
     "name": "stdout",
     "output_type": "stream",
     "text": [
      "Size of x train is 398 and size of x test is 171 .\n"
     ]
    }
   ],
   "source": [
    "print(f\"Size of x train is {X_train.shape[0]} and size of x test is {X_test.shape[0]} .\")"
   ]
  },
  {
   "cell_type": "code",
   "execution_count": 27,
   "id": "545088b1",
   "metadata": {},
   "outputs": [],
   "source": [
    "R, C = data.data.shape # R for rows and C for columns."
   ]
  },
  {
   "cell_type": "code",
   "execution_count": 28,
   "id": "8248dad1",
   "metadata": {},
   "outputs": [],
   "source": [
    "from sklearn.preprocessing import StandardScaler"
   ]
  },
  {
   "cell_type": "code",
   "execution_count": 29,
   "id": "ef5ee5b7",
   "metadata": {},
   "outputs": [],
   "source": [
    "# Scaling process for better fitting.\n",
    "sc = StandardScaler()\n",
    "X_train = sc.fit_transform(X_train)\n",
    "X_test = sc.transform(X_test)"
   ]
  },
  {
   "cell_type": "code",
   "execution_count": 30,
   "id": "a7ba46cb",
   "metadata": {},
   "outputs": [],
   "source": [
    "from keras.layers import Dense\n",
    "from keras.models import Sequential"
   ]
  },
  {
   "cell_type": "code",
   "execution_count": 42,
   "id": "2e6af5c4",
   "metadata": {},
   "outputs": [
    {
     "name": "stdout",
     "output_type": "stream",
     "text": [
      "Epoch 1/80\n",
      "13/13 [==============================] - 1s 17ms/step - loss: 0.8924 - accuracy: 0.5879 - val_loss: 0.6379 - val_accuracy: 0.6199\n",
      "Epoch 2/80\n",
      "13/13 [==============================] - 0s 6ms/step - loss: 0.6034 - accuracy: 0.6558 - val_loss: 0.4344 - val_accuracy: 0.7602\n",
      "Epoch 3/80\n",
      "13/13 [==============================] - 0s 6ms/step - loss: 0.4171 - accuracy: 0.8065 - val_loss: 0.3286 - val_accuracy: 0.8947\n",
      "Epoch 4/80\n",
      "13/13 [==============================] - 0s 5ms/step - loss: 0.3143 - accuracy: 0.8945 - val_loss: 0.2725 - val_accuracy: 0.9123\n",
      "Epoch 5/80\n",
      "13/13 [==============================] - 0s 5ms/step - loss: 0.2566 - accuracy: 0.9271 - val_loss: 0.2367 - val_accuracy: 0.9181\n",
      "Epoch 6/80\n",
      "13/13 [==============================] - 0s 6ms/step - loss: 0.2188 - accuracy: 0.9523 - val_loss: 0.2113 - val_accuracy: 0.9298\n",
      "Epoch 7/80\n",
      "13/13 [==============================] - 0s 5ms/step - loss: 0.1930 - accuracy: 0.9548 - val_loss: 0.1922 - val_accuracy: 0.9240\n",
      "Epoch 8/80\n",
      "13/13 [==============================] - 0s 5ms/step - loss: 0.1736 - accuracy: 0.9598 - val_loss: 0.1778 - val_accuracy: 0.9357\n",
      "Epoch 9/80\n",
      "13/13 [==============================] - 0s 6ms/step - loss: 0.1586 - accuracy: 0.9623 - val_loss: 0.1661 - val_accuracy: 0.9357\n",
      "Epoch 10/80\n",
      "13/13 [==============================] - 0s 6ms/step - loss: 0.1466 - accuracy: 0.9698 - val_loss: 0.1559 - val_accuracy: 0.9415\n",
      "Epoch 11/80\n",
      "13/13 [==============================] - 0s 6ms/step - loss: 0.1365 - accuracy: 0.9698 - val_loss: 0.1475 - val_accuracy: 0.9415\n",
      "Epoch 12/80\n",
      "13/13 [==============================] - 0s 6ms/step - loss: 0.1282 - accuracy: 0.9724 - val_loss: 0.1401 - val_accuracy: 0.9532\n",
      "Epoch 13/80\n",
      "13/13 [==============================] - 0s 7ms/step - loss: 0.1210 - accuracy: 0.9749 - val_loss: 0.1345 - val_accuracy: 0.9532\n",
      "Epoch 14/80\n",
      "13/13 [==============================] - 0s 6ms/step - loss: 0.1149 - accuracy: 0.9749 - val_loss: 0.1286 - val_accuracy: 0.9532\n",
      "Epoch 15/80\n",
      "13/13 [==============================] - 0s 6ms/step - loss: 0.1096 - accuracy: 0.9749 - val_loss: 0.1231 - val_accuracy: 0.9532\n",
      "Epoch 16/80\n",
      "13/13 [==============================] - 0s 5ms/step - loss: 0.1049 - accuracy: 0.9749 - val_loss: 0.1191 - val_accuracy: 0.9532\n",
      "Epoch 17/80\n",
      "13/13 [==============================] - 0s 6ms/step - loss: 0.1007 - accuracy: 0.9749 - val_loss: 0.1156 - val_accuracy: 0.9532\n",
      "Epoch 18/80\n",
      "13/13 [==============================] - 0s 5ms/step - loss: 0.0976 - accuracy: 0.9749 - val_loss: 0.1107 - val_accuracy: 0.9649\n",
      "Epoch 19/80\n",
      "13/13 [==============================] - 0s 6ms/step - loss: 0.0938 - accuracy: 0.9749 - val_loss: 0.1079 - val_accuracy: 0.9649\n",
      "Epoch 20/80\n",
      "13/13 [==============================] - 0s 5ms/step - loss: 0.0906 - accuracy: 0.9774 - val_loss: 0.1051 - val_accuracy: 0.9649\n",
      "Epoch 21/80\n",
      "13/13 [==============================] - 0s 6ms/step - loss: 0.0880 - accuracy: 0.9799 - val_loss: 0.1020 - val_accuracy: 0.9649\n",
      "Epoch 22/80\n",
      "13/13 [==============================] - 0s 7ms/step - loss: 0.0853 - accuracy: 0.9824 - val_loss: 0.0995 - val_accuracy: 0.9708\n",
      "Epoch 23/80\n",
      "13/13 [==============================] - 0s 7ms/step - loss: 0.0831 - accuracy: 0.9824 - val_loss: 0.0972 - val_accuracy: 0.9708\n",
      "Epoch 24/80\n",
      "13/13 [==============================] - 0s 6ms/step - loss: 0.0809 - accuracy: 0.9824 - val_loss: 0.0954 - val_accuracy: 0.9708\n",
      "Epoch 25/80\n",
      "13/13 [==============================] - 0s 4ms/step - loss: 0.0788 - accuracy: 0.9849 - val_loss: 0.0933 - val_accuracy: 0.9766\n",
      "Epoch 26/80\n",
      "13/13 [==============================] - 0s 4ms/step - loss: 0.0770 - accuracy: 0.9849 - val_loss: 0.0920 - val_accuracy: 0.9766\n",
      "Epoch 27/80\n",
      "13/13 [==============================] - 0s 4ms/step - loss: 0.0753 - accuracy: 0.9824 - val_loss: 0.0905 - val_accuracy: 0.9766\n",
      "Epoch 28/80\n",
      "13/13 [==============================] - 0s 3ms/step - loss: 0.0736 - accuracy: 0.9849 - val_loss: 0.0889 - val_accuracy: 0.9766\n",
      "Epoch 29/80\n",
      "13/13 [==============================] - 0s 3ms/step - loss: 0.0720 - accuracy: 0.9849 - val_loss: 0.0876 - val_accuracy: 0.9766\n",
      "Epoch 30/80\n",
      "13/13 [==============================] - 0s 4ms/step - loss: 0.0706 - accuracy: 0.9849 - val_loss: 0.0860 - val_accuracy: 0.9766\n",
      "Epoch 31/80\n",
      "13/13 [==============================] - 0s 3ms/step - loss: 0.0691 - accuracy: 0.9849 - val_loss: 0.0850 - val_accuracy: 0.9766\n",
      "Epoch 32/80\n",
      "13/13 [==============================] - 0s 3ms/step - loss: 0.0678 - accuracy: 0.9849 - val_loss: 0.0835 - val_accuracy: 0.9766\n",
      "Epoch 33/80\n",
      "13/13 [==============================] - 0s 4ms/step - loss: 0.0665 - accuracy: 0.9849 - val_loss: 0.0827 - val_accuracy: 0.9766\n",
      "Epoch 34/80\n",
      "13/13 [==============================] - 0s 4ms/step - loss: 0.0653 - accuracy: 0.9874 - val_loss: 0.0818 - val_accuracy: 0.9766\n",
      "Epoch 35/80\n",
      "13/13 [==============================] - 0s 4ms/step - loss: 0.0645 - accuracy: 0.9874 - val_loss: 0.0814 - val_accuracy: 0.9708\n",
      "Epoch 36/80\n",
      "13/13 [==============================] - 0s 4ms/step - loss: 0.0630 - accuracy: 0.9874 - val_loss: 0.0806 - val_accuracy: 0.9708\n",
      "Epoch 37/80\n",
      "13/13 [==============================] - 0s 4ms/step - loss: 0.0620 - accuracy: 0.9874 - val_loss: 0.0795 - val_accuracy: 0.9708\n",
      "Epoch 38/80\n",
      "13/13 [==============================] - 0s 3ms/step - loss: 0.0609 - accuracy: 0.9874 - val_loss: 0.0797 - val_accuracy: 0.9825\n",
      "Epoch 39/80\n",
      "13/13 [==============================] - 0s 4ms/step - loss: 0.0599 - accuracy: 0.9874 - val_loss: 0.0792 - val_accuracy: 0.9825\n",
      "Epoch 40/80\n",
      "13/13 [==============================] - 0s 4ms/step - loss: 0.0591 - accuracy: 0.9874 - val_loss: 0.0786 - val_accuracy: 0.9825\n",
      "Epoch 41/80\n",
      "13/13 [==============================] - 0s 3ms/step - loss: 0.0582 - accuracy: 0.9874 - val_loss: 0.0786 - val_accuracy: 0.9825\n",
      "Epoch 42/80\n",
      "13/13 [==============================] - 0s 3ms/step - loss: 0.0573 - accuracy: 0.9874 - val_loss: 0.0779 - val_accuracy: 0.9825\n",
      "Epoch 43/80\n",
      "13/13 [==============================] - 0s 3ms/step - loss: 0.0564 - accuracy: 0.9874 - val_loss: 0.0778 - val_accuracy: 0.9766\n",
      "Epoch 44/80\n",
      "13/13 [==============================] - 0s 4ms/step - loss: 0.0557 - accuracy: 0.9874 - val_loss: 0.0779 - val_accuracy: 0.9825\n",
      "Epoch 45/80\n",
      "13/13 [==============================] - 0s 3ms/step - loss: 0.0547 - accuracy: 0.9874 - val_loss: 0.0778 - val_accuracy: 0.9883\n",
      "Epoch 46/80\n",
      "13/13 [==============================] - 0s 3ms/step - loss: 0.0540 - accuracy: 0.9874 - val_loss: 0.0774 - val_accuracy: 0.9825\n",
      "Epoch 47/80\n",
      "13/13 [==============================] - 0s 3ms/step - loss: 0.0531 - accuracy: 0.9874 - val_loss: 0.0769 - val_accuracy: 0.9825\n",
      "Epoch 48/80\n",
      "13/13 [==============================] - 0s 4ms/step - loss: 0.0523 - accuracy: 0.9874 - val_loss: 0.0768 - val_accuracy: 0.9883\n",
      "Epoch 49/80\n",
      "13/13 [==============================] - 0s 3ms/step - loss: 0.0516 - accuracy: 0.9874 - val_loss: 0.0765 - val_accuracy: 0.9883\n",
      "Epoch 50/80\n",
      "13/13 [==============================] - 0s 3ms/step - loss: 0.0511 - accuracy: 0.9874 - val_loss: 0.0770 - val_accuracy: 0.9883\n",
      "Epoch 51/80\n",
      "13/13 [==============================] - 0s 4ms/step - loss: 0.0502 - accuracy: 0.9874 - val_loss: 0.0765 - val_accuracy: 0.9883\n",
      "Epoch 52/80\n",
      "13/13 [==============================] - 0s 3ms/step - loss: 0.0496 - accuracy: 0.9874 - val_loss: 0.0770 - val_accuracy: 0.9883\n",
      "Epoch 53/80\n",
      "13/13 [==============================] - 0s 3ms/step - loss: 0.0490 - accuracy: 0.9874 - val_loss: 0.0762 - val_accuracy: 0.9883\n",
      "Epoch 54/80\n",
      "13/13 [==============================] - 0s 3ms/step - loss: 0.0483 - accuracy: 0.9874 - val_loss: 0.0764 - val_accuracy: 0.9883\n",
      "Epoch 55/80\n",
      "13/13 [==============================] - 0s 3ms/step - loss: 0.0478 - accuracy: 0.9874 - val_loss: 0.0770 - val_accuracy: 0.9883\n",
      "Epoch 56/80\n",
      "13/13 [==============================] - 0s 3ms/step - loss: 0.0473 - accuracy: 0.9874 - val_loss: 0.0762 - val_accuracy: 0.9883\n",
      "Epoch 57/80\n",
      "13/13 [==============================] - 0s 3ms/step - loss: 0.0467 - accuracy: 0.9874 - val_loss: 0.0766 - val_accuracy: 0.9883\n",
      "Epoch 58/80\n",
      "13/13 [==============================] - 0s 3ms/step - loss: 0.0460 - accuracy: 0.9899 - val_loss: 0.0770 - val_accuracy: 0.9883\n",
      "Epoch 59/80\n"
     ]
    },
    {
     "name": "stdout",
     "output_type": "stream",
     "text": [
      "13/13 [==============================] - 0s 4ms/step - loss: 0.0455 - accuracy: 0.9899 - val_loss: 0.0770 - val_accuracy: 0.9883\n",
      "Epoch 60/80\n",
      "13/13 [==============================] - 0s 3ms/step - loss: 0.0449 - accuracy: 0.9899 - val_loss: 0.0775 - val_accuracy: 0.9883\n",
      "Epoch 61/80\n",
      "13/13 [==============================] - 0s 3ms/step - loss: 0.0443 - accuracy: 0.9899 - val_loss: 0.0770 - val_accuracy: 0.9883\n",
      "Epoch 62/80\n",
      "13/13 [==============================] - 0s 3ms/step - loss: 0.0437 - accuracy: 0.9899 - val_loss: 0.0772 - val_accuracy: 0.9883\n",
      "Epoch 63/80\n",
      "13/13 [==============================] - 0s 4ms/step - loss: 0.0434 - accuracy: 0.9899 - val_loss: 0.0798 - val_accuracy: 0.9883\n",
      "Epoch 64/80\n",
      "13/13 [==============================] - 0s 3ms/step - loss: 0.0428 - accuracy: 0.9899 - val_loss: 0.0794 - val_accuracy: 0.9883\n",
      "Epoch 65/80\n",
      "13/13 [==============================] - 0s 4ms/step - loss: 0.0423 - accuracy: 0.9899 - val_loss: 0.0791 - val_accuracy: 0.9883\n",
      "Epoch 66/80\n",
      "13/13 [==============================] - 0s 3ms/step - loss: 0.0420 - accuracy: 0.9899 - val_loss: 0.0778 - val_accuracy: 0.9883\n",
      "Epoch 67/80\n",
      "13/13 [==============================] - 0s 3ms/step - loss: 0.0413 - accuracy: 0.9899 - val_loss: 0.0784 - val_accuracy: 0.9883\n",
      "Epoch 68/80\n",
      "13/13 [==============================] - 0s 4ms/step - loss: 0.0408 - accuracy: 0.9899 - val_loss: 0.0790 - val_accuracy: 0.9883\n",
      "Epoch 69/80\n",
      "13/13 [==============================] - 0s 4ms/step - loss: 0.0403 - accuracy: 0.9899 - val_loss: 0.0790 - val_accuracy: 0.9883\n",
      "Epoch 70/80\n",
      "13/13 [==============================] - 0s 4ms/step - loss: 0.0398 - accuracy: 0.9899 - val_loss: 0.0788 - val_accuracy: 0.9883\n",
      "Epoch 71/80\n",
      "13/13 [==============================] - 0s 4ms/step - loss: 0.0394 - accuracy: 0.9899 - val_loss: 0.0786 - val_accuracy: 0.9883\n",
      "Epoch 72/80\n",
      "13/13 [==============================] - 0s 4ms/step - loss: 0.0390 - accuracy: 0.9899 - val_loss: 0.0788 - val_accuracy: 0.9883\n",
      "Epoch 73/80\n",
      "13/13 [==============================] - 0s 3ms/step - loss: 0.0387 - accuracy: 0.9899 - val_loss: 0.0794 - val_accuracy: 0.9825\n",
      "Epoch 74/80\n",
      "13/13 [==============================] - 0s 3ms/step - loss: 0.0381 - accuracy: 0.9899 - val_loss: 0.0802 - val_accuracy: 0.9883\n",
      "Epoch 75/80\n",
      "13/13 [==============================] - 0s 3ms/step - loss: 0.0376 - accuracy: 0.9899 - val_loss: 0.0812 - val_accuracy: 0.9883\n",
      "Epoch 76/80\n",
      "13/13 [==============================] - 0s 4ms/step - loss: 0.0371 - accuracy: 0.9899 - val_loss: 0.0802 - val_accuracy: 0.9883\n",
      "Epoch 77/80\n",
      "13/13 [==============================] - 0s 3ms/step - loss: 0.0366 - accuracy: 0.9899 - val_loss: 0.0813 - val_accuracy: 0.9825\n",
      "Epoch 78/80\n",
      "13/13 [==============================] - 0s 3ms/step - loss: 0.0362 - accuracy: 0.9899 - val_loss: 0.0820 - val_accuracy: 0.9766\n",
      "Epoch 79/80\n",
      "13/13 [==============================] - 0s 3ms/step - loss: 0.0359 - accuracy: 0.9899 - val_loss: 0.0812 - val_accuracy: 0.9825\n",
      "Epoch 80/80\n",
      "13/13 [==============================] - 0s 3ms/step - loss: 0.0354 - accuracy: 0.9899 - val_loss: 0.0815 - val_accuracy: 0.9825\n"
     ]
    }
   ],
   "source": [
    "model = Sequential()\n",
    "\n",
    "model.add(Dense(30, input_shape= (C,), activation= \"relu\"))\n",
    "\n",
    "model.add(Dense(1, activation= \"sigmoid\"))\n",
    "model.compile(optimizer=\"adam\", loss= \"binary_crossentropy\", metrics=[\"accuracy\"])\n",
    "\n",
    "r = model.fit(X_train, y_train, validation_data=(X_test, y_test), epochs=80)"
   ]
  },
  {
   "cell_type": "code",
   "execution_count": 43,
   "id": "3a427143",
   "metadata": {},
   "outputs": [
    {
     "data": {
      "text/plain": [
       "<function matplotlib.pyplot.legend(*args, **kwargs)>"
      ]
     },
     "execution_count": 43,
     "metadata": {},
     "output_type": "execute_result"
    },
    {
     "data": {
      "image/png": "[encoded data removed]",
      "text/plain": [
       "<Figure size 432x288 with 1 Axes>"
      ]
     },
     "metadata": {
      "needs_background": "light"
     },
     "output_type": "display_data"
    }
   ],
   "source": [
    "import matplotlib.pyplot as plt\n",
    "%matplotlib inline\n",
    "plt.plot(r.history[\"loss\"], label= \"loss\")\n",
    "plt.plot(r.history[\"val_loss\"], label= \"val_loss\")\n",
    "plt.legend"
   ]
  },
  {
   "cell_type": "code",
   "execution_count": 44,
   "id": "15c30bcc",
   "metadata": {},
   "outputs": [
    {
     "data": {
      "text/plain": [
       "<function matplotlib.pyplot.legend(*args, **kwargs)>"
      ]
     },
     "execution_count": 44,
     "metadata": {},
     "output_type": "execute_result"
    },
    {
     "data": {
      "image/png": "[encoded data removed]",
      "text/plain": [
       "<Figure size 432x288 with 1 Axes>"
      ]
     },
     "metadata": {
      "needs_background": "light"
     },
     "output_type": "display_data"
    }
   ],
   "source": [
    "plt.plot(r.history[\"accuracy\"], label= \"accuracy\")\n",
    "plt.plot(r.history[\"val_accuracy\"], label= \"val_accuracy\")\n",
    "plt.legend"
   ]
  },
  {
   "cell_type": "code",
   "execution_count": 45,
   "id": "4cfc7294",
   "metadata": {},
   "outputs": [
    {
     "name": "stdout",
     "output_type": "stream",
     "text": [
      "13/13 [==============================] - 0s 3ms/step - loss: 0.0350 - accuracy: 0.9899\n",
      "Train score: [0.03502920642495155, 0.9899497628211975]\n",
      "6/6 [==============================] - 0s 3ms/step - loss: 0.0815 - accuracy: 0.9825\n",
      "Test score: [0.081511490046978, 0.9824561476707458]\n"
     ]
    }
   ],
   "source": [
    "print(\"Train score:\", model.evaluate(X_train, y_train))\n",
    "print(\"Test score:\", model.evaluate(X_test, y_test))"
   ]
  },
  {
   "cell_type": "code",
   "execution_count": 63,
   "id": "daf81afa",
   "metadata": {},
   "outputs": [
    {
     "name": "stdout",
     "output_type": "stream",
     "text": [
      "[[ 61   2]\n",
      " [  1 107]]\n"
     ]
    }
   ],
   "source": [
    "# creating a confusion matrix to evaluate our predict\n",
    "from sklearn.metrics import confusion_matrix\n",
    "y_pred = model.predict(X_test)\n",
    "y_pred = np.round(y_pred).flatten()\n",
    "conf = confusion_matrix(y_test, y_pred)\n",
    "print(conf)"
   ]
  },
  {
   "cell_type": "code",
   "execution_count": 65,
   "id": "f6758207",
   "metadata": {},
   "outputs": [],
   "source": [
    "\n",
    "from sklearn.neural_network import MLPClassifier\n",
    "mlp = MLPClassifier(solver='lbfgs', alpha=1e-5, hidden_layer_sizes=(5, 2), random_state=1)\n",
    "mlp.fit(X_train, y_train)\n",
    "y_pred2 = mlp.predict(X_test)"
   ]
  },
  {
   "cell_type": "code",
   "execution_count": 66,
   "id": "6b191d5d",
   "metadata": {},
   "outputs": [
    {
     "name": "stdout",
     "output_type": "stream",
     "text": [
      "[[ 60   3]\n",
      " [  3 105]]\n"
     ]
    }
   ],
   "source": [
    "conf2 = confusion_matrix(y_pred2, y_test)\n",
    "print(conf2)"
   ]
  },
  {
   "cell_type": "code",
   "execution_count": null,
   "id": "a89b7c72",
   "metadata": {},
   "outputs": [],
   "source": []
  }
 ],
 "metadata": {
  "kernelspec": {
   "display_name": "Python 3.8.8 ('base': conda)",
   "language": "python",
   "name": "python388jvsc74a57bd05b1745ddb169a1e73536ee2b7992c9ef600264075962970028596e4156d8948a"
  },
  "language_info": {
   "codemirror_mode": {
    "name": "ipython",
    "version": 3
   },
   "file_extension": ".py",
   "mimetype": "text/x-python",
   "name": "python",
   "nbconvert_exporter": "python",
   "pygments_lexer": "ipython3",
   "version": "3.8.8"
  }
 },
 "nbformat": 4,
 "nbformat_minor": 5
}
