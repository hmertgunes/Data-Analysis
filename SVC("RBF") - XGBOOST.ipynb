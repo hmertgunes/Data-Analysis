{
 "cells": [
  {
   "cell_type": "code",
   "execution_count": 1,
   "id": "d5fb05a2",
   "metadata": {},
   "outputs": [],
   "source": [
    "import numpy as np\n",
    "import pandas as pd\n",
    "import matplotlib.pyplot as plt"
   ]
  },
  {
   "cell_type": "code",
   "execution_count": 2,
   "id": "dc67c460",
   "metadata": {},
   "outputs": [
    {
     "data": {
      "text/plain": [
       "User ID            400\n",
       "Gender             400\n",
       "Age                400\n",
       "EstimatedSalary    400\n",
       "Purchased          400\n",
       "dtype: int64"
      ]
     },
     "execution_count": 2,
     "metadata": {},
     "output_type": "execute_result"
    }
   ],
   "source": [
    "data = pd.read_csv(\"Social_Network_Ads.csv\")\n",
    "data.count()"
   ]
  },
  {
   "cell_type": "code",
   "execution_count": 3,
   "id": "f082740d",
   "metadata": {},
   "outputs": [
    {
     "data": {
      "text/html": [
       "<div>\n",
       "<style scoped>\n",
       "    .dataframe tbody tr th:only-of-type {\n",
       "        vertical-align: middle;\n",
       "    }\n",
       "\n",
       "    .dataframe tbody tr th {\n",
       "        vertical-align: top;\n",
       "    }\n",
       "\n",
       "    .dataframe thead th {\n",
       "        text-align: right;\n",
       "    }\n",
       "</style>\n",
       "<table border=\"1\" class=\"dataframe\">\n",
       "  <thead>\n",
       "    <tr style=\"text-align: right;\">\n",
       "      <th></th>\n",
       "      <th>User ID</th>\n",
       "      <th>Gender</th>\n",
       "      <th>Age</th>\n",
       "      <th>EstimatedSalary</th>\n",
       "      <th>Purchased</th>\n",
       "    </tr>\n",
       "  </thead>\n",
       "  <tbody>\n",
       "    <tr>\n",
       "      <th>0</th>\n",
       "      <td>15624510</td>\n",
       "      <td>Male</td>\n",
       "      <td>19</td>\n",
       "      <td>19000</td>\n",
       "      <td>0</td>\n",
       "    </tr>\n",
       "    <tr>\n",
       "      <th>1</th>\n",
       "      <td>15810944</td>\n",
       "      <td>Male</td>\n",
       "      <td>35</td>\n",
       "      <td>20000</td>\n",
       "      <td>0</td>\n",
       "    </tr>\n",
       "    <tr>\n",
       "      <th>2</th>\n",
       "      <td>15668575</td>\n",
       "      <td>Female</td>\n",
       "      <td>26</td>\n",
       "      <td>43000</td>\n",
       "      <td>0</td>\n",
       "    </tr>\n",
       "    <tr>\n",
       "      <th>3</th>\n",
       "      <td>15603246</td>\n",
       "      <td>Female</td>\n",
       "      <td>27</td>\n",
       "      <td>57000</td>\n",
       "      <td>0</td>\n",
       "    </tr>\n",
       "    <tr>\n",
       "      <th>4</th>\n",
       "      <td>15804002</td>\n",
       "      <td>Male</td>\n",
       "      <td>19</td>\n",
       "      <td>76000</td>\n",
       "      <td>0</td>\n",
       "    </tr>\n",
       "  </tbody>\n",
       "</table>\n",
       "</div>"
      ],
      "text/plain": [
       "    User ID  Gender  Age  EstimatedSalary  Purchased\n",
       "0  15624510    Male   19            19000          0\n",
       "1  15810944    Male   35            20000          0\n",
       "2  15668575  Female   26            43000          0\n",
       "3  15603246  Female   27            57000          0\n",
       "4  15804002    Male   19            76000          0"
      ]
     },
     "execution_count": 3,
     "metadata": {},
     "output_type": "execute_result"
    }
   ],
   "source": [
    "data.head()"
   ]
  },
  {
   "cell_type": "code",
   "execution_count": 4,
   "id": "d007fd5c",
   "metadata": {},
   "outputs": [
    {
     "data": {
      "text/plain": [
       "User ID            0\n",
       "Gender             0\n",
       "Age                0\n",
       "EstimatedSalary    0\n",
       "Purchased          0\n",
       "dtype: int64"
      ]
     },
     "execution_count": 4,
     "metadata": {},
     "output_type": "execute_result"
    }
   ],
   "source": [
    "data.isna().sum()"
   ]
  },
  {
   "cell_type": "code",
   "execution_count": 5,
   "id": "c1e49e37",
   "metadata": {},
   "outputs": [],
   "source": [
    "dummy = pd.get_dummies(data[\"Gender\"]).iloc[:,1:2] \n",
    "data1 = data.copy()"
   ]
  },
  {
   "cell_type": "code",
   "execution_count": 6,
   "id": "4d38cef3",
   "metadata": {},
   "outputs": [
    {
     "data": {
      "text/html": [
       "<div>\n",
       "<style scoped>\n",
       "    .dataframe tbody tr th:only-of-type {\n",
       "        vertical-align: middle;\n",
       "    }\n",
       "\n",
       "    .dataframe tbody tr th {\n",
       "        vertical-align: top;\n",
       "    }\n",
       "\n",
       "    .dataframe thead th {\n",
       "        text-align: right;\n",
       "    }\n",
       "</style>\n",
       "<table border=\"1\" class=\"dataframe\">\n",
       "  <thead>\n",
       "    <tr style=\"text-align: right;\">\n",
       "      <th></th>\n",
       "      <th>User ID</th>\n",
       "      <th>Age</th>\n",
       "      <th>EstimatedSalary</th>\n",
       "      <th>Male</th>\n",
       "    </tr>\n",
       "  </thead>\n",
       "  <tbody>\n",
       "    <tr>\n",
       "      <th>0</th>\n",
       "      <td>15624510</td>\n",
       "      <td>19</td>\n",
       "      <td>19000</td>\n",
       "      <td>1</td>\n",
       "    </tr>\n",
       "    <tr>\n",
       "      <th>1</th>\n",
       "      <td>15810944</td>\n",
       "      <td>35</td>\n",
       "      <td>20000</td>\n",
       "      <td>1</td>\n",
       "    </tr>\n",
       "    <tr>\n",
       "      <th>2</th>\n",
       "      <td>15668575</td>\n",
       "      <td>26</td>\n",
       "      <td>43000</td>\n",
       "      <td>0</td>\n",
       "    </tr>\n",
       "    <tr>\n",
       "      <th>3</th>\n",
       "      <td>15603246</td>\n",
       "      <td>27</td>\n",
       "      <td>57000</td>\n",
       "      <td>0</td>\n",
       "    </tr>\n",
       "    <tr>\n",
       "      <th>4</th>\n",
       "      <td>15804002</td>\n",
       "      <td>19</td>\n",
       "      <td>76000</td>\n",
       "      <td>1</td>\n",
       "    </tr>\n",
       "  </tbody>\n",
       "</table>\n",
       "</div>"
      ],
      "text/plain": [
       "    User ID  Age  EstimatedSalary  Male\n",
       "0  15624510   19            19000     1\n",
       "1  15810944   35            20000     1\n",
       "2  15668575   26            43000     0\n",
       "3  15603246   27            57000     0\n",
       "4  15804002   19            76000     1"
      ]
     },
     "execution_count": 6,
     "metadata": {},
     "output_type": "execute_result"
    }
   ],
   "source": [
    "data1 = data1.drop([\"Gender\",\"Purchased\"],axis=1)\n",
    "last_data = pd.concat([data1,dummy],axis = 1)\n",
    "last_data.head()"
   ]
  },
  {
   "cell_type": "code",
   "execution_count": 7,
   "id": "2c134379",
   "metadata": {},
   "outputs": [],
   "source": [
    "y = data.iloc[:,4:5].values\n",
    "x = last_data.iloc[:,1:3].values"
   ]
  },
  {
   "cell_type": "code",
   "execution_count": 8,
   "id": "f5d2740d",
   "metadata": {},
   "outputs": [],
   "source": [
    "from sklearn.preprocessing import StandardScaler"
   ]
  },
  {
   "cell_type": "code",
   "execution_count": 9,
   "id": "2b88146a",
   "metadata": {},
   "outputs": [
    {
     "name": "stdout",
     "output_type": "stream",
     "text": [
      "            0         1\n",
      "0   -1.781797 -1.490046\n",
      "1   -0.253587 -1.460681\n",
      "2   -1.113206 -0.785290\n",
      "3   -1.017692 -0.374182\n",
      "4   -1.781797  0.183751\n",
      "..        ...       ...\n",
      "395  0.797057 -0.844019\n",
      "396  1.274623 -1.372587\n",
      "397  1.179110 -1.460681\n",
      "398 -0.158074 -1.078938\n",
      "399  1.083596 -0.990844\n",
      "\n",
      "[400 rows x 2 columns]\n"
     ]
    }
   ],
   "source": [
    "sc = StandardScaler()\n",
    "x_scaled = sc.fit_transform(x)\n",
    "x_scaled1 = pd.DataFrame(x_scaled)\n",
    "print(x_scaled1)"
   ]
  },
  {
   "cell_type": "code",
   "execution_count": 10,
   "id": "8ac2cf34",
   "metadata": {},
   "outputs": [],
   "source": [
    "from sklearn.model_selection import train_test_split"
   ]
  },
  {
   "cell_type": "code",
   "execution_count": 11,
   "id": "bfaa6c49",
   "metadata": {},
   "outputs": [],
   "source": [
    "x_train, x_test, y_train, y_test = train_test_split(x_scaled, y, test_size=0.33)"
   ]
  },
  {
   "cell_type": "code",
   "execution_count": 12,
   "id": "c986618b",
   "metadata": {},
   "outputs": [
    {
     "data": {
      "text/plain": [
       "array([[-1.11320552,  0.30121002],\n",
       "       [-1.01769239, -1.54877595],\n",
       "       [ 1.65667523, -0.9027491 ],\n",
       "       [ 1.5611621 ,  1.123426  ],\n",
       "       [ 0.70154394, -0.72655996],\n",
       "       [-1.11320552,  0.33057487],\n",
       "       [ 0.31949142,  0.06629116],\n",
       "       [-1.78179743,  0.00756145],\n",
       "       [-0.34910049, -0.78528968],\n",
       "       [ 0.03295203, -0.13926283],\n",
       "       [ 1.37013584,  2.35674998],\n",
       "       [-0.25358736,  0.21311545],\n",
       "       [-1.01769239,  0.53612887],\n",
       "       [-0.15807423, -1.07893824],\n",
       "       [ 0.60603081,  2.03373655],\n",
       "       [ 0.89257019,  1.09406114],\n",
       "       [ 0.31949142, -1.16703281],\n",
       "       [-0.92217926,  1.56389885],\n",
       "       [-0.0625611 ,  0.30121002],\n",
       "       [ 2.03872775,  0.18375059],\n",
       "       [-0.25358736,  0.15438573],\n",
       "       [ 0.22397829,  1.09406114],\n",
       "       [ 0.98808332, -1.16703281],\n",
       "       [-0.0625611 , -1.07893824],\n",
       "       [ 0.41500455, -0.13926283],\n",
       "       [ 0.31949142, -0.55037082],\n",
       "       [-0.15807423,  0.85914229],\n",
       "       [ 0.79705706,  0.12502088],\n",
       "       [-0.25358736, -0.34481683],\n",
       "       [-0.54012675, -1.51941109],\n",
       "       [-0.82666613,  0.38930459],\n",
       "       [ 0.12846516,  0.03692631],\n",
       "       [-1.11320552, -0.52100597],\n",
       "       [-0.25358736,  0.27184516],\n",
       "       [ 0.51051768,  1.85754742],\n",
       "       [ 0.79705706, -0.84401939],\n",
       "       [ 1.46564897,  0.35993973],\n",
       "       [-0.92217926, -0.4329114 ],\n",
       "       [-0.44461362, -1.22576253],\n",
       "       [-1.59077117, -0.05116826],\n",
       "       [ 0.98808332,  0.59485858],\n",
       "       [-1.01769239,  1.97500684],\n",
       "       [-0.0625611 , -0.49164111],\n",
       "       [-0.73115301, -1.60750566],\n",
       "       [ 1.08359645,  0.12502088],\n",
       "       [-0.44461362, -0.84401939],\n",
       "       [-0.34910049,  1.32898   ],\n",
       "       [ 1.46564897,  2.15119598],\n",
       "       [ 1.65667523,  1.76945285],\n",
       "       [-1.01769239, -0.34481683],\n",
       "       [-0.73115301,  0.56549373],\n",
       "       [-1.6862843 ,  0.47739916],\n",
       "       [-1.59077117, -1.5781408 ],\n",
       "       [-0.15807423,  0.15438573],\n",
       "       [-0.25358736,  0.06629116],\n",
       "       [ 1.37013584,  1.29961514],\n",
       "       [ 1.17910958, -0.99084367],\n",
       "       [ 0.98808332, -1.07893824],\n",
       "       [-1.78179743, -1.28449224],\n",
       "       [ 0.41500455, -0.46227625],\n",
       "       [ 1.17910958, -1.46068138],\n",
       "       [-0.92217926,  0.27184516],\n",
       "       [ 1.75218836,  1.85754742],\n",
       "       [ 2.13424088, -0.69719511],\n",
       "       [ 0.98808332,  1.88691227],\n",
       "       [-1.59077117,  0.06629116],\n",
       "       [ 0.22397829, -0.28608712],\n",
       "       [-0.0625611 ,  0.00756145],\n",
       "       [ 0.12846516, -0.81465453],\n",
       "       [ 0.22397829, -0.13926283],\n",
       "       [ 0.89257019, -0.78528968],\n",
       "       [-0.63563988,  0.03692631],\n",
       "       [-0.34910049,  1.24088543],\n",
       "       [-0.25358736, -1.40195167],\n",
       "       [ 1.08359645,  0.56549373],\n",
       "       [-1.6862843 ,  0.35993973],\n",
       "       [ 1.37013584,  0.59485858],\n",
       "       [-0.54012675,  1.91627713],\n",
       "       [-1.01769239, -0.34481683],\n",
       "       [ 0.22397829, -0.66783025],\n",
       "       [-1.87731056, -0.52100597],\n",
       "       [ 0.41500455,  0.15438573],\n",
       "       [ 0.41500455,  0.59485858],\n",
       "       [ 0.03295203, -0.25672226],\n",
       "       [-0.0625611 ,  0.27184516],\n",
       "       [ 0.79705706,  0.53612887],\n",
       "       [-0.82666613,  0.38930459],\n",
       "       [-0.0625611 ,  0.15438573],\n",
       "       [ 1.08359645, -0.99084367],\n",
       "       [-1.11320552, -1.02020853],\n",
       "       [ 0.03295203, -0.4329114 ],\n",
       "       [-0.73115301,  1.35834485],\n",
       "       [ 1.37013584,  2.0043717 ],\n",
       "       [ 0.89257019, -1.16703281],\n",
       "       [ 0.98808332, -1.19639767],\n",
       "       [-0.92217926, -0.31545197],\n",
       "       [-0.73115301, -1.54877595],\n",
       "       [-0.25358736, -0.75592482],\n",
       "       [-1.30423178, -0.4329114 ],\n",
       "       [-0.73115301,  1.91627713],\n",
       "       [-0.25358736,  0.09565602],\n",
       "       [ 0.98808332,  1.7988177 ],\n",
       "       [ 0.41500455, -0.13926283],\n",
       "       [ 0.12846516, -0.25672226],\n",
       "       [-0.0625611 , -0.37418169],\n",
       "       [-0.34910049, -1.3138571 ],\n",
       "       [-0.54012675, -1.51941109],\n",
       "       [-1.49525804, -1.25512738],\n",
       "       [ 0.22397829,  2.12183112],\n",
       "       [ 0.89257019, -0.57973568],\n",
       "       [-0.82666613,  2.29802026],\n",
       "       [-1.01769239, -0.46227625],\n",
       "       [ 0.31949142, -0.19799255],\n",
       "       [ 1.17910958,  0.53612887],\n",
       "       [ 0.41500455,  0.30121002],\n",
       "       [ 0.98808332,  1.44643942],\n",
       "       [ 1.08359645,  0.53612887],\n",
       "       [ 0.03295203, -0.31545197],\n",
       "       [-0.25358736, -0.9027491 ],\n",
       "       [-0.25358736,  2.26865541],\n",
       "       [-0.25358736, -1.3138571 ],\n",
       "       [ 0.03295203, -0.57973568],\n",
       "       [ 0.31949142, -0.72655996],\n",
       "       [ 1.46564897,  1.00596657],\n",
       "       [-0.25358736, -0.49164111],\n",
       "       [ 0.98808332,  2.09246627],\n",
       "       [-0.63563988, -1.51941109],\n",
       "       [-0.54012675,  2.35674998],\n",
       "       [ 0.31949142,  0.03692631],\n",
       "       [-0.25358736,  0.62422344],\n",
       "       [ 0.89257019,  1.03533143],\n",
       "       [-0.92217926, -0.31545197]])"
      ]
     },
     "execution_count": 12,
     "metadata": {},
     "output_type": "execute_result"
    }
   ],
   "source": [
    "x_test"
   ]
  },
  {
   "cell_type": "code",
   "execution_count": 13,
   "id": "35612aa8",
   "metadata": {},
   "outputs": [],
   "source": [
    "from sklearn.svm import SVC"
   ]
  },
  {
   "cell_type": "code",
   "execution_count": 14,
   "id": "72612544",
   "metadata": {},
   "outputs": [
    {
     "name": "stderr",
     "output_type": "stream",
     "text": [
      "/home/mert/anaconda3/lib/python3.8/site-packages/sklearn/utils/validation.py:63: DataConversionWarning: A column-vector y was passed when a 1d array was expected. Please change the shape of y to (n_samples, ), for example using ravel().\n",
      "  return f(*args, **kwargs)\n"
     ]
    },
    {
     "data": {
      "text/plain": [
       "SVC()"
      ]
     },
     "execution_count": 14,
     "metadata": {},
     "output_type": "execute_result"
    }
   ],
   "source": [
    "svc = SVC(kernel=\"rbf\")\n",
    "svc.fit(x_train, y_train)"
   ]
  },
  {
   "cell_type": "code",
   "execution_count": 15,
   "id": "aad75f3a",
   "metadata": {},
   "outputs": [
    {
     "name": "stdout",
     "output_type": "stream",
     "text": [
      "test accuracy 0.9166666666666666\n",
      "train accuracy 0.9104477611940298\n"
     ]
    }
   ],
   "source": [
    "print(\"test accuracy {}\".format(svc.score(x_test,y_test)))\n",
    "print(\"train accuracy {}\".format(svc.score(x_train, y_train)))"
   ]
  },
  {
   "cell_type": "code",
   "execution_count": 16,
   "id": "bb74f294",
   "metadata": {},
   "outputs": [],
   "source": [
    "import statsmodels.api as sm\n",
    "from sklearn.metrics import confusion_matrix"
   ]
  },
  {
   "cell_type": "code",
   "execution_count": 17,
   "id": "0ed3ea51",
   "metadata": {},
   "outputs": [
    {
     "name": "stdout",
     "output_type": "stream",
     "text": [
      "                                 OLS Regression Results                                \n",
      "=======================================================================================\n",
      "Dep. Variable:                      y   R-squared (uncentered):                   0.397\n",
      "Model:                            OLS   Adj. R-squared (uncentered):              0.388\n",
      "Method:                 Least Squares   F-statistic:                              42.87\n",
      "Date:                Sat, 20 Nov 2021   Prob (F-statistic):                    5.03e-15\n",
      "Time:                        19:08:57   Log-Likelihood:                         -92.387\n",
      "No. Observations:                 132   AIC:                                      188.8\n",
      "Df Residuals:                     130   BIC:                                      194.5\n",
      "Df Model:                           2                                                  \n",
      "Covariance Type:            nonrobust                                                  \n",
      "==============================================================================\n",
      "                 coef    std err          t      P>|t|      [0.025      0.975]\n",
      "------------------------------------------------------------------------------\n",
      "x1             0.2947      0.048      6.152      0.000       0.200       0.389\n",
      "x2             0.2245      0.042      5.404      0.000       0.142       0.307\n",
      "==============================================================================\n",
      "Omnibus:                       15.014   Durbin-Watson:                   0.899\n",
      "Prob(Omnibus):                  0.001   Jarque-Bera (JB):                6.163\n",
      "Skew:                           0.275   Prob(JB):                       0.0459\n",
      "Kurtosis:                       2.096   Cond. No.                         1.30\n",
      "==============================================================================\n",
      "\n",
      "Notes:\n",
      "[1] R² is computed without centering (uncentered) since the model does not contain a constant.\n",
      "[2] Standard Errors assume that the covariance matrix of the errors is correctly specified.\n"
     ]
    }
   ],
   "source": [
    "model = sm.OLS(svc.predict(x_test),x_test)\n",
    "print(model.fit().summary())"
   ]
  },
  {
   "cell_type": "code",
   "execution_count": 18,
   "id": "b1074595",
   "metadata": {},
   "outputs": [
    {
     "name": "stdout",
     "output_type": "stream",
     "text": [
      "[[76  4]\n",
      " [ 7 45]]\n"
     ]
    }
   ],
   "source": [
    "con = confusion_matrix(svc.predict(x_test), y_test)\n",
    "print(con)"
   ]
  },
  {
   "cell_type": "code",
   "execution_count": 19,
   "id": "61d96681",
   "metadata": {
    "scrolled": true
   },
   "outputs": [],
   "source": [
    "from sklearn.model_selection import cross_val_score"
   ]
  },
  {
   "cell_type": "code",
   "execution_count": 20,
   "id": "09df321a",
   "metadata": {},
   "outputs": [
    {
     "name": "stdout",
     "output_type": "stream",
     "text": [
      "0.9030378693300042\n"
     ]
    },
    {
     "name": "stderr",
     "output_type": "stream",
     "text": [
      "/home/mert/anaconda3/lib/python3.8/site-packages/sklearn/utils/validation.py:63: DataConversionWarning: A column-vector y was passed when a 1d array was expected. Please change the shape of y to (n_samples, ), for example using ravel().\n",
      "  return f(*args, **kwargs)\n",
      "/home/mert/anaconda3/lib/python3.8/site-packages/sklearn/utils/validation.py:63: DataConversionWarning: A column-vector y was passed when a 1d array was expected. Please change the shape of y to (n_samples, ), for example using ravel().\n",
      "  return f(*args, **kwargs)\n",
      "/home/mert/anaconda3/lib/python3.8/site-packages/sklearn/utils/validation.py:63: DataConversionWarning: A column-vector y was passed when a 1d array was expected. Please change the shape of y to (n_samples, ), for example using ravel().\n",
      "  return f(*args, **kwargs)\n"
     ]
    }
   ],
   "source": [
    "cvs = cross_val_score(estimator= svc, X= x_train, y= y_train, cv= 3)\n",
    "print(cvs.mean())"
   ]
  },
  {
   "cell_type": "code",
   "execution_count": 21,
   "id": "4b5e839b",
   "metadata": {},
   "outputs": [
    {
     "name": "stdout",
     "output_type": "stream",
     "text": [
      "0.8992537313432836\n",
      "{'C': 1, 'gamma': 0.5, 'kernel': 'rbf'}\n"
     ]
    },
    {
     "name": "stderr",
     "output_type": "stream",
     "text": [
      "/home/mert/anaconda3/lib/python3.8/site-packages/sklearn/utils/validation.py:63: DataConversionWarning: A column-vector y was passed when a 1d array was expected. Please change the shape of y to (n_samples, ), for example using ravel().\n",
      "  return f(*args, **kwargs)\n"
     ]
    }
   ],
   "source": [
    "from sklearn.model_selection import GridSearchCV\n",
    "p = [{'C':[1,2,3,4,5],'kernel':['linear']},\n",
    "     {'C':[1,2,3,4,5] ,'kernel':['rbf'],\n",
    "      'gamma':[1,0.5,0.1,0.01,0.001]} ]\n",
    "\n",
    "'''\n",
    "GSCV parameters\n",
    "estimator : classification algorithm \n",
    "param_grid : parameters\n",
    "scoring: scoring, for example: accuracy\n",
    "cv : cv\n",
    "n_jobs : number of jobs\n",
    "'''\n",
    "gs = GridSearchCV(estimator= svc, #SVM algoritması\n",
    "                  param_grid = p,\n",
    "                  scoring =  'accuracy',\n",
    "                  cv = 2,\n",
    "                  n_jobs = -1)\n",
    "\n",
    "grid_search = gs.fit(x_train,y_train)\n",
    "TheBestScore = grid_search.best_score_\n",
    "TheBestParameters = grid_search.best_params_\n",
    "\n",
    "print(TheBestScore)\n",
    "print(TheBestParameters)\n"
   ]
  },
  {
   "cell_type": "code",
   "execution_count": 23,
   "id": "7bacb2e0",
   "metadata": {},
   "outputs": [
    {
     "name": "stderr",
     "output_type": "stream",
     "text": [
      "/home/mert/anaconda3/lib/python3.8/site-packages/xgboost/sklearn.py:1224: UserWarning: The use of label encoder in XGBClassifier is deprecated and will be removed in a future release. To remove this warning, do the following: 1) Pass option use_label_encoder=False when constructing XGBClassifier object; and 2) Encode your labels (y) as integers starting with 0, i.e. 0, 1, 2, ..., [num_class - 1].\n",
      "  warnings.warn(label_encoder_deprecation_msg, UserWarning)\n",
      "/home/mert/anaconda3/lib/python3.8/site-packages/sklearn/utils/validation.py:63: DataConversionWarning: A column-vector y was passed when a 1d array was expected. Please change the shape of y to (n_samples, ), for example using ravel().\n",
      "  return f(*args, **kwargs)\n"
     ]
    },
    {
     "name": "stdout",
     "output_type": "stream",
     "text": [
      "[19:10:20] WARNING: ../src/learner.cc:1115: Starting in XGBoost 1.3.0, the default evaluation metric used with the objective 'binary:logistic' was changed from 'error' to 'logloss'. Explicitly set eval_metric if you'd like to restore the old behavior.\n"
     ]
    }
   ],
   "source": [
    "from xgboost import XGBClassifier\n",
    "classifier = XGBClassifier()\n",
    "classifier.fit(x_train, y_train)\n",
    "y_pred_x = classifier.predict(x_test)"
   ]
  },
  {
   "cell_type": "code",
   "execution_count": 25,
   "id": "82c9ed6b",
   "metadata": {},
   "outputs": [
    {
     "name": "stdout",
     "output_type": "stream",
     "text": [
      "[[76  7]\n",
      " [ 8 41]]\n"
     ]
    }
   ],
   "source": [
    "cm_xgb = confusion_matrix(y_test, y_pred_x)\n",
    "print(cm_xgb)"
   ]
  },
  {
   "cell_type": "code",
   "execution_count": null,
   "id": "ab68724f",
   "metadata": {},
   "outputs": [],
   "source": []
  }
 ],
 "metadata": {
  "kernelspec": {
   "display_name": "Python 3",
   "language": "python",
   "name": "python3"
  },
  "language_info": {
   "codemirror_mode": {
    "name": "ipython",
    "version": 3
   },
   "file_extension": ".py",
   "mimetype": "text/x-python",
   "name": "python",
   "nbconvert_exporter": "python",
   "pygments_lexer": "ipython3",
   "version": "3.8.8"
  }
 },
 "nbformat": 4,
 "nbformat_minor": 5
}
