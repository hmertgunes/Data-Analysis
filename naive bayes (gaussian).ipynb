{
 "cells": [
  {
   "cell_type": "code",
   "execution_count": 1,
   "id": "ffd8b23e",
   "metadata": {},
   "outputs": [],
   "source": [
    "import numpy as np\n",
    "import pandas as pd\n",
    "import matplotlib.pyplot as plt"
   ]
  },
  {
   "cell_type": "code",
   "execution_count": 2,
   "id": "9443091a",
   "metadata": {},
   "outputs": [
    {
     "data": {
      "text/plain": [
       "User ID            400\n",
       "Gender             400\n",
       "Age                400\n",
       "EstimatedSalary    400\n",
       "Purchased          400\n",
       "dtype: int64"
      ]
     },
     "execution_count": 2,
     "metadata": {},
     "output_type": "execute_result"
    }
   ],
   "source": [
    "data = pd.read_csv(\"Social_Network_Ads.csv\")\n",
    "data.count()"
   ]
  },
  {
   "cell_type": "code",
   "execution_count": 3,
   "id": "4185fb31",
   "metadata": {},
   "outputs": [
    {
     "data": {
      "text/html": [
       "<div>\n",
       "<style scoped>\n",
       "    .dataframe tbody tr th:only-of-type {\n",
       "        vertical-align: middle;\n",
       "    }\n",
       "\n",
       "    .dataframe tbody tr th {\n",
       "        vertical-align: top;\n",
       "    }\n",
       "\n",
       "    .dataframe thead th {\n",
       "        text-align: right;\n",
       "    }\n",
       "</style>\n",
       "<table border=\"1\" class=\"dataframe\">\n",
       "  <thead>\n",
       "    <tr style=\"text-align: right;\">\n",
       "      <th></th>\n",
       "      <th>User ID</th>\n",
       "      <th>Gender</th>\n",
       "      <th>Age</th>\n",
       "      <th>EstimatedSalary</th>\n",
       "      <th>Purchased</th>\n",
       "    </tr>\n",
       "  </thead>\n",
       "  <tbody>\n",
       "    <tr>\n",
       "      <th>0</th>\n",
       "      <td>15624510</td>\n",
       "      <td>Male</td>\n",
       "      <td>19</td>\n",
       "      <td>19000</td>\n",
       "      <td>0</td>\n",
       "    </tr>\n",
       "    <tr>\n",
       "      <th>1</th>\n",
       "      <td>15810944</td>\n",
       "      <td>Male</td>\n",
       "      <td>35</td>\n",
       "      <td>20000</td>\n",
       "      <td>0</td>\n",
       "    </tr>\n",
       "    <tr>\n",
       "      <th>2</th>\n",
       "      <td>15668575</td>\n",
       "      <td>Female</td>\n",
       "      <td>26</td>\n",
       "      <td>43000</td>\n",
       "      <td>0</td>\n",
       "    </tr>\n",
       "    <tr>\n",
       "      <th>3</th>\n",
       "      <td>15603246</td>\n",
       "      <td>Female</td>\n",
       "      <td>27</td>\n",
       "      <td>57000</td>\n",
       "      <td>0</td>\n",
       "    </tr>\n",
       "    <tr>\n",
       "      <th>4</th>\n",
       "      <td>15804002</td>\n",
       "      <td>Male</td>\n",
       "      <td>19</td>\n",
       "      <td>76000</td>\n",
       "      <td>0</td>\n",
       "    </tr>\n",
       "  </tbody>\n",
       "</table>\n",
       "</div>"
      ],
      "text/plain": [
       "    User ID  Gender  Age  EstimatedSalary  Purchased\n",
       "0  15624510    Male   19            19000          0\n",
       "1  15810944    Male   35            20000          0\n",
       "2  15668575  Female   26            43000          0\n",
       "3  15603246  Female   27            57000          0\n",
       "4  15804002    Male   19            76000          0"
      ]
     },
     "execution_count": 3,
     "metadata": {},
     "output_type": "execute_result"
    }
   ],
   "source": [
    "data.head()"
   ]
  },
  {
   "cell_type": "code",
   "execution_count": 4,
   "id": "fc18b583",
   "metadata": {},
   "outputs": [],
   "source": [
    "dummy = pd.get_dummies(data[\"Gender\"]).iloc[:,1:2] \n",
    "data1 = data.copy()"
   ]
  },
  {
   "cell_type": "code",
   "execution_count": 5,
   "id": "35a2ec0f",
   "metadata": {},
   "outputs": [
    {
     "data": {
      "text/html": [
       "<div>\n",
       "<style scoped>\n",
       "    .dataframe tbody tr th:only-of-type {\n",
       "        vertical-align: middle;\n",
       "    }\n",
       "\n",
       "    .dataframe tbody tr th {\n",
       "        vertical-align: top;\n",
       "    }\n",
       "\n",
       "    .dataframe thead th {\n",
       "        text-align: right;\n",
       "    }\n",
       "</style>\n",
       "<table border=\"1\" class=\"dataframe\">\n",
       "  <thead>\n",
       "    <tr style=\"text-align: right;\">\n",
       "      <th></th>\n",
       "      <th>User ID</th>\n",
       "      <th>Age</th>\n",
       "      <th>EstimatedSalary</th>\n",
       "      <th>Male</th>\n",
       "    </tr>\n",
       "  </thead>\n",
       "  <tbody>\n",
       "    <tr>\n",
       "      <th>0</th>\n",
       "      <td>15624510</td>\n",
       "      <td>19</td>\n",
       "      <td>19000</td>\n",
       "      <td>1</td>\n",
       "    </tr>\n",
       "    <tr>\n",
       "      <th>1</th>\n",
       "      <td>15810944</td>\n",
       "      <td>35</td>\n",
       "      <td>20000</td>\n",
       "      <td>1</td>\n",
       "    </tr>\n",
       "    <tr>\n",
       "      <th>2</th>\n",
       "      <td>15668575</td>\n",
       "      <td>26</td>\n",
       "      <td>43000</td>\n",
       "      <td>0</td>\n",
       "    </tr>\n",
       "    <tr>\n",
       "      <th>3</th>\n",
       "      <td>15603246</td>\n",
       "      <td>27</td>\n",
       "      <td>57000</td>\n",
       "      <td>0</td>\n",
       "    </tr>\n",
       "    <tr>\n",
       "      <th>4</th>\n",
       "      <td>15804002</td>\n",
       "      <td>19</td>\n",
       "      <td>76000</td>\n",
       "      <td>1</td>\n",
       "    </tr>\n",
       "  </tbody>\n",
       "</table>\n",
       "</div>"
      ],
      "text/plain": [
       "    User ID  Age  EstimatedSalary  Male\n",
       "0  15624510   19            19000     1\n",
       "1  15810944   35            20000     1\n",
       "2  15668575   26            43000     0\n",
       "3  15603246   27            57000     0\n",
       "4  15804002   19            76000     1"
      ]
     },
     "execution_count": 5,
     "metadata": {},
     "output_type": "execute_result"
    }
   ],
   "source": [
    "data1 = data1.drop([\"Gender\",\"Purchased\"],axis=1)\n",
    "last_data = pd.concat([data1,dummy],axis = 1)\n",
    "last_data.head()"
   ]
  },
  {
   "cell_type": "code",
   "execution_count": 6,
   "id": "e29fef68",
   "metadata": {},
   "outputs": [],
   "source": [
    "y = data.iloc[:,4:5].values\n",
    "x = last_data.iloc[:,1:4].values"
   ]
  },
  {
   "cell_type": "code",
   "execution_count": 7,
   "id": "59574766",
   "metadata": {},
   "outputs": [],
   "source": [
    "from sklearn.preprocessing import StandardScaler"
   ]
  },
  {
   "cell_type": "code",
   "execution_count": 8,
   "id": "edd59e35",
   "metadata": {},
   "outputs": [
    {
     "name": "stdout",
     "output_type": "stream",
     "text": [
      "            0         1         2\n",
      "0   -1.781797 -1.490046  1.020204\n",
      "1   -0.253587 -1.460681  1.020204\n",
      "2   -1.113206 -0.785290 -0.980196\n",
      "3   -1.017692 -0.374182 -0.980196\n",
      "4   -1.781797  0.183751  1.020204\n",
      "..        ...       ...       ...\n",
      "395  0.797057 -0.844019 -0.980196\n",
      "396  1.274623 -1.372587  1.020204\n",
      "397  1.179110 -1.460681 -0.980196\n",
      "398 -0.158074 -1.078938  1.020204\n",
      "399  1.083596 -0.990844 -0.980196\n",
      "\n",
      "[400 rows x 3 columns]\n"
     ]
    }
   ],
   "source": [
    "sc = StandardScaler()\n",
    "x_scaled = sc.fit_transform(x)\n",
    "x_scaled1 = pd.DataFrame(x_scaled)\n",
    "print(x_scaled1)"
   ]
  },
  {
   "cell_type": "code",
   "execution_count": 9,
   "id": "53f2c1c8",
   "metadata": {},
   "outputs": [],
   "source": [
    "from sklearn.model_selection import train_test_split"
   ]
  },
  {
   "cell_type": "code",
   "execution_count": 10,
   "id": "08477e67",
   "metadata": {},
   "outputs": [],
   "source": [
    "x_train, x_test, y_train, y_test = train_test_split(x_scaled, y, test_size=0.33, random_state=0)"
   ]
  },
  {
   "cell_type": "code",
   "execution_count": 11,
   "id": "119dd3e2",
   "metadata": {},
   "outputs": [
    {
     "data": {
      "text/plain": [
       "array([[-0.73115301,  0.50676401,  1.02020406],\n",
       "       [ 0.03295203, -0.57973568, -0.98019606],\n",
       "       [-0.25358736,  0.15438573,  1.02020406],\n",
       "       [-0.73115301,  0.27184516, -0.98019606],\n",
       "       [-0.25358736, -0.57973568, -0.98019606],\n",
       "       [-1.01769239, -1.46068138,  1.02020406],\n",
       "       [-0.63563988, -1.60750566, -0.98019606],\n",
       "       [-0.15807423,  2.18056084,  1.02020406],\n",
       "       [-1.87731056, -0.05116826, -0.98019606],\n",
       "       [ 0.89257019, -0.78528968,  1.02020406],\n",
       "       [-0.73115301, -0.60910054,  1.02020406],\n",
       "       [-0.92217926, -0.4329114 , -0.98019606],\n",
       "       [-0.0625611 , -0.4329114 ,  1.02020406],\n",
       "       [ 0.12846516,  0.21311545,  1.02020406],\n",
       "       [-1.6862843 ,  0.47739916,  1.02020406],\n",
       "       [-0.54012675,  1.38770971, -0.98019606],\n",
       "       [-0.0625611 ,  0.21311545,  1.02020406],\n",
       "       [-1.78179743,  0.4480343 ,  1.02020406],\n",
       "       [ 1.65667523,  1.76945285, -0.98019606],\n",
       "       [-0.25358736, -1.40195167,  1.02020406],\n",
       "       [-0.25358736, -0.66783025, -0.98019606],\n",
       "       [ 0.89257019,  2.18056084, -0.98019606],\n",
       "       [ 0.31949142, -0.55037082, -0.98019606],\n",
       "       [ 0.89257019,  1.03533143,  1.02020406],\n",
       "       [-1.39974491, -1.22576253, -0.98019606],\n",
       "       [ 1.08359645,  2.09246627, -0.98019606],\n",
       "       [-0.92217926,  0.50676401, -0.98019606],\n",
       "       [-0.82666613,  0.30121002,  1.02020406],\n",
       "       [-0.0625611 , -0.2273574 , -0.98019606],\n",
       "       [-0.54012675,  0.47739916, -0.98019606],\n",
       "       [-1.59077117,  0.53612887,  1.02020406],\n",
       "       [-0.0625611 ,  0.27184516,  1.02020406],\n",
       "       [ 1.84770149, -0.28608712,  1.02020406],\n",
       "       [-0.0625611 , -0.49164111,  1.02020406],\n",
       "       [-1.30423178, -0.34481683,  1.02020406],\n",
       "       [-1.87731056, -0.52100597,  1.02020406],\n",
       "       [-1.49525804,  0.33057487,  1.02020406],\n",
       "       [-0.34910049, -0.78528968, -0.98019606],\n",
       "       [-0.63563988, -1.04957339, -0.98019606],\n",
       "       [ 1.08359645, -0.99084367, -0.98019606],\n",
       "       [-1.01769239,  0.53612887,  1.02020406],\n",
       "       [ 0.31949142, -0.52100597,  1.02020406],\n",
       "       [-1.01769239,  0.41866944, -0.98019606],\n",
       "       [-0.25358736, -1.46068138,  1.02020406],\n",
       "       [ 0.51051768,  1.24088543, -0.98019606],\n",
       "       [-1.01769239, -0.34481683, -0.98019606],\n",
       "       [-0.0625611 ,  0.30121002, -0.98019606],\n",
       "       [ 1.37013584,  0.59485858, -0.98019606],\n",
       "       [-1.11320552, -1.16703281,  1.02020406],\n",
       "       [ 1.08359645,  0.47739916,  1.02020406],\n",
       "       [ 1.84770149,  1.53453399, -0.98019606],\n",
       "       [-0.34910049, -1.3138571 , -0.98019606],\n",
       "       [-0.25358736, -0.37418169, -0.98019606],\n",
       "       [-0.34910049,  1.32898   ,  1.02020406],\n",
       "       [ 2.03872775,  0.53612887, -0.98019606],\n",
       "       [ 0.70154394, -1.1083031 ,  1.02020406],\n",
       "       [-0.82666613,  0.38930459, -0.98019606],\n",
       "       [-1.11320552,  0.30121002, -0.98019606],\n",
       "       [ 1.08359645, -1.22576253,  1.02020406],\n",
       "       [-1.39974491, -1.46068138,  1.02020406],\n",
       "       [-0.54012675, -1.51941109,  1.02020406],\n",
       "       [ 2.13424088, -0.81465453,  1.02020406],\n",
       "       [-1.78179743,  0.18375059,  1.02020406],\n",
       "       [-0.15807423,  0.85914229,  1.02020406],\n",
       "       [-1.78179743, -1.28449224, -0.98019606],\n",
       "       [ 2.13424088,  0.38930459,  1.02020406],\n",
       "       [-1.30423178,  0.56549373, -0.98019606],\n",
       "       [-1.01769239, -0.34481683,  1.02020406],\n",
       "       [ 0.22397829, -0.66783025,  1.02020406],\n",
       "       [ 0.41500455,  0.00756145, -0.98019606],\n",
       "       [-0.54012675,  2.35674998, -0.98019606],\n",
       "       [-0.25358736,  0.21311545, -0.98019606],\n",
       "       [-1.49525804, -0.19799255, -0.98019606],\n",
       "       [ 0.70154394, -1.40195167,  1.02020406],\n",
       "       [-1.01769239,  0.56549373,  1.02020406],\n",
       "       [-1.87731056,  0.35993973,  1.02020406],\n",
       "       [ 0.41500455,  0.27184516, -0.98019606],\n",
       "       [ 0.22397829, -0.28608712, -0.98019606],\n",
       "       [ 1.46564897, -1.04957339, -0.98019606],\n",
       "       [ 0.89257019,  1.09406114, -0.98019606],\n",
       "       [ 1.94321462,  2.18056084,  1.02020406],\n",
       "       [ 2.03872775,  0.38930459, -0.98019606],\n",
       "       [-1.30423178, -0.4329114 , -0.98019606],\n",
       "       [-1.11320552, -1.02020853, -0.98019606],\n",
       "       [ 1.94321462, -0.93211396, -0.98019606],\n",
       "       [ 0.41500455,  0.30121002, -0.98019606],\n",
       "       [ 0.22397829,  0.15438573, -0.98019606],\n",
       "       [ 2.03872775,  1.76945285,  1.02020406],\n",
       "       [ 0.79705706, -0.84401939, -0.98019606],\n",
       "       [ 0.31949142, -0.28608712, -0.98019606],\n",
       "       [ 0.41500455, -0.16862769,  1.02020406],\n",
       "       [-0.0625611 ,  2.23929055, -0.98019606],\n",
       "       [-1.39974491, -0.63846539, -0.98019606],\n",
       "       [-1.20871865, -1.07893824,  1.02020406],\n",
       "       [-1.30423178,  0.41866944,  1.02020406],\n",
       "       [-1.01769239,  0.77104772, -0.98019606],\n",
       "       [-1.39974491, -0.19799255,  1.02020406],\n",
       "       [ 0.98808332, -1.07893824,  1.02020406],\n",
       "       [ 0.98808332,  0.59485858,  1.02020406],\n",
       "       [ 0.41500455,  1.00596657,  1.02020406],\n",
       "       [ 0.60603081, -0.9027491 , -0.98019606],\n",
       "       [-0.54012675,  1.47580428,  1.02020406],\n",
       "       [ 0.03295203, -0.57973568, -0.98019606],\n",
       "       [-0.54012675,  1.91627713, -0.98019606],\n",
       "       [ 1.37013584, -1.43131652, -0.98019606],\n",
       "       [ 1.46564897,  1.00596657, -0.98019606],\n",
       "       [ 0.12846516, -0.81465453,  1.02020406],\n",
       "       [ 0.03295203, -0.25672226,  1.02020406],\n",
       "       [-0.15807423, -0.57973568, -0.98019606],\n",
       "       [-0.15807423, -0.19799255, -0.98019606],\n",
       "       [-0.25358736, -1.3138571 , -0.98019606],\n",
       "       [-0.25358736, -0.57973568,  1.02020406],\n",
       "       [ 0.41500455,  0.09565602,  1.02020406],\n",
       "       [ 0.89257019, -0.60910054, -0.98019606],\n",
       "       [ 2.03872775, -1.19639767, -0.98019606],\n",
       "       [ 1.08359645, -0.13926283,  1.02020406],\n",
       "       [ 0.70154394,  1.7988177 , -0.98019606],\n",
       "       [-0.63563988,  0.56549373, -0.98019606],\n",
       "       [ 0.79705706,  0.35993973, -0.98019606],\n",
       "       [ 0.89257019, -0.55037082, -0.98019606],\n",
       "       [-1.11320552, -1.60750566,  1.02020406],\n",
       "       [ 2.13424088,  0.94723686,  1.02020406],\n",
       "       [ 0.03295203,  1.24088543, -0.98019606],\n",
       "       [ 0.22397829,  1.09406114,  1.02020406],\n",
       "       [ 0.41500455, -0.49164111, -0.98019606],\n",
       "       [-0.25358736, -0.31545197,  1.02020406],\n",
       "       [ 0.98808332, -0.84401939,  1.02020406],\n",
       "       [ 0.98808332,  1.88691227, -0.98019606],\n",
       "       [ 0.03295203,  1.27025028, -0.98019606],\n",
       "       [-0.82666613,  2.29802026,  1.02020406],\n",
       "       [-1.11320552, -1.60750566, -0.98019606],\n",
       "       [ 2.13424088, -0.81465453,  1.02020406]])"
      ]
     },
     "execution_count": 11,
     "metadata": {},
     "output_type": "execute_result"
    }
   ],
   "source": [
    "x_test"
   ]
  },
  {
   "cell_type": "code",
   "execution_count": 12,
   "id": "23436628",
   "metadata": {},
   "outputs": [],
   "source": [
    "from sklearn.naive_bayes import GaussianNB"
   ]
  },
  {
   "cell_type": "code",
   "execution_count": 13,
   "id": "46e4815a",
   "metadata": {},
   "outputs": [
    {
     "name": "stderr",
     "output_type": "stream",
     "text": [
      "/home/mert/anaconda3/lib/python3.8/site-packages/sklearn/utils/validation.py:63: DataConversionWarning: A column-vector y was passed when a 1d array was expected. Please change the shape of y to (n_samples, ), for example using ravel().\n",
      "  return f(*args, **kwargs)\n"
     ]
    },
    {
     "data": {
      "text/plain": [
       "GaussianNB()"
      ]
     },
     "execution_count": 13,
     "metadata": {},
     "output_type": "execute_result"
    }
   ],
   "source": [
    "na = GaussianNB()\n",
    "na.fit(x_train, y_train)"
   ]
  },
  {
   "cell_type": "code",
   "execution_count": 15,
   "id": "cf696f72",
   "metadata": {},
   "outputs": [
    {
     "name": "stdout",
     "output_type": "stream",
     "text": [
      "test accuracy 0.9090909090909091\n",
      "test accuracy 0.8880597014925373\n"
     ]
    }
   ],
   "source": [
    "print(\"test accuracy {}\".format(na.score(x_test,y_test)))\n",
    "print(\"test accuracy {}\".format(na.score(x_train, y_train)))"
   ]
  },
  {
   "cell_type": "code",
   "execution_count": 16,
   "id": "7da700d4",
   "metadata": {},
   "outputs": [],
   "source": [
    "import statsmodels.api as sm\n",
    "from sklearn.metrics import confusion_matrix"
   ]
  },
  {
   "cell_type": "code",
   "execution_count": 17,
   "id": "440be74f",
   "metadata": {},
   "outputs": [
    {
     "name": "stdout",
     "output_type": "stream",
     "text": [
      "                                 OLS Regression Results                                \n",
      "=======================================================================================\n",
      "Dep. Variable:                      y   R-squared (uncentered):                   0.412\n",
      "Model:                            OLS   Adj. R-squared (uncentered):              0.398\n",
      "Method:                 Least Squares   F-statistic:                              30.13\n",
      "Date:                Sun, 07 Nov 2021   Prob (F-statistic):                    7.87e-15\n",
      "Time:                        00:40:09   Log-Likelihood:                         -79.743\n",
      "No. Observations:                 132   AIC:                                      165.5\n",
      "Df Residuals:                     129   BIC:                                      174.1\n",
      "Df Model:                           3                                                  \n",
      "Covariance Type:            nonrobust                                                  \n",
      "==============================================================================\n",
      "                 coef    std err          t      P>|t|      [0.025      0.975]\n",
      "------------------------------------------------------------------------------\n",
      "x1             0.2933      0.037      7.900      0.000       0.220       0.367\n",
      "x2             0.1581      0.039      4.017      0.000       0.080       0.236\n",
      "x3            -0.0253      0.039     -0.646      0.520      -0.103       0.052\n",
      "==============================================================================\n",
      "Omnibus:                       21.754   Durbin-Watson:                   0.732\n",
      "Prob(Omnibus):                  0.000   Jarque-Bera (JB):                6.222\n",
      "Skew:                           0.165   Prob(JB):                       0.0446\n",
      "Kurtosis:                       1.989   Cond. No.                         1.18\n",
      "==============================================================================\n",
      "\n",
      "Notes:\n",
      "[1] R² is computed without centering (uncentered) since the model does not contain a constant.\n",
      "[2] Standard Errors assume that the covariance matrix of the errors is correctly specified.\n"
     ]
    }
   ],
   "source": [
    "model = sm.OLS(na.predict(x_test),x_test)\n",
    "print(model.fit().summary())"
   ]
  },
  {
   "cell_type": "code",
   "execution_count": 19,
   "id": "e816fe1a",
   "metadata": {},
   "outputs": [
    {
     "name": "stdout",
     "output_type": "stream",
     "text": [
      "[[80  8]\n",
      " [ 4 40]]\n"
     ]
    }
   ],
   "source": [
    "con = confusion_matrix(na.predict(x_test), y_test)\n",
    "print(con)"
   ]
  },
  {
   "cell_type": "code",
   "execution_count": null,
   "id": "db969cab",
   "metadata": {},
   "outputs": [],
   "source": []
  }
 ],
 "metadata": {
  "kernelspec": {
   "display_name": "Python 3",
   "language": "python",
   "name": "python3"
  },
  "language_info": {
   "codemirror_mode": {
    "name": "ipython",
    "version": 3
   },
   "file_extension": ".py",
   "mimetype": "text/x-python",
   "name": "python",
   "nbconvert_exporter": "python",
   "pygments_lexer": "ipython3",
   "version": "3.8.8"
  }
 },
 "nbformat": 4,
 "nbformat_minor": 5
}
