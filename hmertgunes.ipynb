{
 "cells": [
  {
   "cell_type": "code",
   "execution_count": 1,
   "id": "687ee67b-e205-469f-9b08-f9e24518e29d",
   "metadata": {},
   "outputs": [],
   "source": [
    "import pandas as pd\n",
    "import numpy as np\n",
    "import matplotlib.pyplot as plt\n",
    "import seaborn as sns"
   ]
  },
  {
   "cell_type": "code",
   "execution_count": 2,
   "id": "f7178b62-95f5-42ae-ac61-25657d94de6a",
   "metadata": {
    "scrolled": true
   },
   "outputs": [
    {
     "data": {
      "text/html": [
       "<div>\n",
       "<style scoped>\n",
       "    .dataframe tbody tr th:only-of-type {\n",
       "        vertical-align: middle;\n",
       "    }\n",
       "\n",
       "    .dataframe tbody tr th {\n",
       "        vertical-align: top;\n",
       "    }\n",
       "\n",
       "    .dataframe thead th {\n",
       "        text-align: right;\n",
       "    }\n",
       "</style>\n",
       "<table border=\"1\" class=\"dataframe\">\n",
       "  <thead>\n",
       "    <tr style=\"text-align: right;\">\n",
       "      <th></th>\n",
       "      <th>Date</th>\n",
       "      <th>Price</th>\n",
       "      <th>Volume</th>\n",
       "      <th>Temperature</th>\n",
       "      <th>Day_Type</th>\n",
       "    </tr>\n",
       "  </thead>\n",
       "  <tbody>\n",
       "    <tr>\n",
       "      <th>0</th>\n",
       "      <td>2022-01-01</td>\n",
       "      <td>52.483571</td>\n",
       "      <td>196.942732</td>\n",
       "      <td>22.980721</td>\n",
       "      <td>Weekend</td>\n",
       "    </tr>\n",
       "    <tr>\n",
       "      <th>1</th>\n",
       "      <td>2022-01-02</td>\n",
       "      <td>49.756010</td>\n",
       "      <td>189.759896</td>\n",
       "      <td>21.256343</td>\n",
       "      <td>Weekend</td>\n",
       "    </tr>\n",
       "    <tr>\n",
       "      <th>2</th>\n",
       "      <td>2022-01-03</td>\n",
       "      <td>54.133055</td>\n",
       "      <td>199.614946</td>\n",
       "      <td>22.324721</td>\n",
       "      <td>Weekday</td>\n",
       "    </tr>\n",
       "    <tr>\n",
       "      <th>3</th>\n",
       "      <td>2022-01-04</td>\n",
       "      <td>58.956939</td>\n",
       "      <td>225.802920</td>\n",
       "      <td>20.594690</td>\n",
       "      <td>Weekday</td>\n",
       "    </tr>\n",
       "    <tr>\n",
       "      <th>4</th>\n",
       "      <td>2022-01-05</td>\n",
       "      <td>50.618046</td>\n",
       "      <td>192.816402</td>\n",
       "      <td>19.400500</td>\n",
       "      <td>Weekday</td>\n",
       "    </tr>\n",
       "  </tbody>\n",
       "</table>\n",
       "</div>"
      ],
      "text/plain": [
       "         Date      Price      Volume  Temperature Day_Type\n",
       "0  2022-01-01  52.483571  196.942732    22.980721  Weekend\n",
       "1  2022-01-02  49.756010  189.759896    21.256343  Weekend\n",
       "2  2022-01-03  54.133055  199.614946    22.324721  Weekday\n",
       "3  2022-01-04  58.956939  225.802920    20.594690  Weekday\n",
       "4  2022-01-05  50.618046  192.816402    19.400500  Weekday"
      ]
     },
     "execution_count": 2,
     "metadata": {},
     "output_type": "execute_result"
    }
   ],
   "source": [
    "# importing the dataset and having a quick look\n",
    "data = pd.read_csv(\"messy_trading_data.csv\")\n",
    "\n",
    "# getting a copy of the dataset to work on it safely\n",
    "data_saved = data.copy()\n",
    "data.head()"
   ]
  },
  {
   "cell_type": "code",
   "execution_count": 3,
   "id": "9d5289e2-a8d7-4b20-b183-70630bddddfe",
   "metadata": {},
   "outputs": [
    {
     "name": "stdout",
     "output_type": "stream",
     "text": [
      "<class 'pandas.core.frame.DataFrame'>\n",
      "RangeIndex: 367 entries, 0 to 366\n",
      "Data columns (total 5 columns):\n",
      " #   Column       Non-Null Count  Dtype  \n",
      "---  ------       --------------  -----  \n",
      " 0   Date         367 non-null    object \n",
      " 1   Price        367 non-null    float64\n",
      " 2   Volume       367 non-null    float64\n",
      " 3   Temperature  362 non-null    float64\n",
      " 4   Day_Type     367 non-null    object \n",
      "dtypes: float64(3), object(2)\n",
      "memory usage: 14.5+ KB\n"
     ]
    },
    {
     "data": {
      "text/html": [
       "<div>\n",
       "<style scoped>\n",
       "    .dataframe tbody tr th:only-of-type {\n",
       "        vertical-align: middle;\n",
       "    }\n",
       "\n",
       "    .dataframe tbody tr th {\n",
       "        vertical-align: top;\n",
       "    }\n",
       "\n",
       "    .dataframe thead th {\n",
       "        text-align: right;\n",
       "    }\n",
       "</style>\n",
       "<table border=\"1\" class=\"dataframe\">\n",
       "  <thead>\n",
       "    <tr style=\"text-align: right;\">\n",
       "      <th></th>\n",
       "      <th>Price</th>\n",
       "      <th>Volume</th>\n",
       "      <th>Temperature</th>\n",
       "    </tr>\n",
       "  </thead>\n",
       "  <tbody>\n",
       "    <tr>\n",
       "      <th>count</th>\n",
       "      <td>367.000000</td>\n",
       "      <td>367.000000</td>\n",
       "      <td>362.000000</td>\n",
       "    </tr>\n",
       "    <tr>\n",
       "      <th>mean</th>\n",
       "      <td>101.980788</td>\n",
       "      <td>455.799247</td>\n",
       "      <td>20.020354</td>\n",
       "    </tr>\n",
       "    <tr>\n",
       "      <th>std</th>\n",
       "      <td>54.759194</td>\n",
       "      <td>1233.995183</td>\n",
       "      <td>2.235571</td>\n",
       "    </tr>\n",
       "    <tr>\n",
       "      <th>min</th>\n",
       "      <td>-100.000000</td>\n",
       "      <td>-50.000000</td>\n",
       "      <td>13.407325</td>\n",
       "    </tr>\n",
       "    <tr>\n",
       "      <th>25%</th>\n",
       "      <td>83.897441</td>\n",
       "      <td>264.008819</td>\n",
       "      <td>18.530193</td>\n",
       "    </tr>\n",
       "    <tr>\n",
       "      <th>50%</th>\n",
       "      <td>99.964137</td>\n",
       "      <td>302.797166</td>\n",
       "      <td>19.928677</td>\n",
       "    </tr>\n",
       "    <tr>\n",
       "      <th>75%</th>\n",
       "      <td>116.796369</td>\n",
       "      <td>338.789924</td>\n",
       "      <td>21.616004</td>\n",
       "    </tr>\n",
       "    <tr>\n",
       "      <th>max</th>\n",
       "      <td>600.000000</td>\n",
       "      <td>10000.000000</td>\n",
       "      <td>26.729083</td>\n",
       "    </tr>\n",
       "  </tbody>\n",
       "</table>\n",
       "</div>"
      ],
      "text/plain": [
       "            Price        Volume  Temperature\n",
       "count  367.000000    367.000000   362.000000\n",
       "mean   101.980788    455.799247    20.020354\n",
       "std     54.759194   1233.995183     2.235571\n",
       "min   -100.000000    -50.000000    13.407325\n",
       "25%     83.897441    264.008819    18.530193\n",
       "50%     99.964137    302.797166    19.928677\n",
       "75%    116.796369    338.789924    21.616004\n",
       "max    600.000000  10000.000000    26.729083"
      ]
     },
     "execution_count": 3,
     "metadata": {},
     "output_type": "execute_result"
    }
   ],
   "source": [
    "# getting the data types of the labels\n",
    "data.info()\n",
    "\n",
    "# numerical check\n",
    "data.describe()"
   ]
  },
  {
   "cell_type": "code",
   "execution_count": 4,
   "id": "ab82d6db-6f99-4de7-8965-ec808cae31e1",
   "metadata": {
    "scrolled": true
   },
   "outputs": [],
   "source": [
    "# temperature label seems an unwanted label in this case, so the column will be dropped for now\n",
    "data = data.drop(\"Temperature\", axis=1)\n",
    "\n",
    "# date column should be converted to pandas date type so one can group by date easier\n",
    "# additionally, I will use the date column as index\n",
    "data['Date']= pd.to_datetime(data[\"Date\"])\n",
    "data = data.set_index(\"Date\")"
   ]
  },
  {
   "cell_type": "code",
   "execution_count": 5,
   "id": "7c9ca3f8-efda-416d-9faa-3520ebc2f50f",
   "metadata": {},
   "outputs": [
    {
     "data": {
      "text/plain": [
       "Day_Type\n",
       "Weekday                  257\n",
       "Weekend                  103\n",
       "Holiday                    5\n",
       "WhoAmI?                    1\n",
       "WhyIsDataAlwaysMessy?      1\n",
       "Name: count, dtype: int64"
      ]
     },
     "execution_count": 5,
     "metadata": {},
     "output_type": "execute_result"
    }
   ],
   "source": [
    "# checking the day_type column\n",
    "data[\"Day_Type\"].value_counts()"
   ]
  },
  {
   "cell_type": "code",
   "execution_count": 6,
   "id": "439fe40c-b83f-43c3-85d2-86770fadb23e",
   "metadata": {},
   "outputs": [],
   "source": [
    "# Day_Type has some uncleaned data, they will be considered as non_weekday to keep any information\n",
    "# also the column has encoded as categorical data so should be converted to dummy variables\n",
    "\n",
    "dummy = pd.get_dummies(data[\"Day_Type\"], dtype=int, prefix=\"is_\")\n",
    "dummy = dummy.iloc[:,1:2]\n",
    "data = pd.concat((data, dummy), axis=1)\n",
    "data = data.drop(\"Day_Type\", axis=1)"
   ]
  },
  {
   "cell_type": "code",
   "execution_count": 7,
   "id": "b4a3f31e-b44b-480d-8f44-e272faed42f4",
   "metadata": {},
   "outputs": [
    {
     "data": {
      "text/html": [
       "<div>\n",
       "<style scoped>\n",
       "    .dataframe tbody tr th:only-of-type {\n",
       "        vertical-align: middle;\n",
       "    }\n",
       "\n",
       "    .dataframe tbody tr th {\n",
       "        vertical-align: top;\n",
       "    }\n",
       "\n",
       "    .dataframe thead th {\n",
       "        text-align: right;\n",
       "    }\n",
       "</style>\n",
       "<table border=\"1\" class=\"dataframe\">\n",
       "  <thead>\n",
       "    <tr style=\"text-align: right;\">\n",
       "      <th></th>\n",
       "      <th>Price</th>\n",
       "      <th>Volume</th>\n",
       "      <th>is__Weekday</th>\n",
       "    </tr>\n",
       "    <tr>\n",
       "      <th>Date</th>\n",
       "      <th></th>\n",
       "      <th></th>\n",
       "      <th></th>\n",
       "    </tr>\n",
       "  </thead>\n",
       "  <tbody>\n",
       "    <tr>\n",
       "      <th>2022-01-01</th>\n",
       "      <td>52.483571</td>\n",
       "      <td>196.942732</td>\n",
       "      <td>0</td>\n",
       "    </tr>\n",
       "    <tr>\n",
       "      <th>2022-01-02</th>\n",
       "      <td>49.756010</td>\n",
       "      <td>189.759896</td>\n",
       "      <td>0</td>\n",
       "    </tr>\n",
       "    <tr>\n",
       "      <th>2022-01-03</th>\n",
       "      <td>54.133055</td>\n",
       "      <td>199.614946</td>\n",
       "      <td>1</td>\n",
       "    </tr>\n",
       "    <tr>\n",
       "      <th>2022-01-04</th>\n",
       "      <td>58.956939</td>\n",
       "      <td>225.802920</td>\n",
       "      <td>1</td>\n",
       "    </tr>\n",
       "    <tr>\n",
       "      <th>2022-01-05</th>\n",
       "      <td>50.618046</td>\n",
       "      <td>192.816402</td>\n",
       "      <td>1</td>\n",
       "    </tr>\n",
       "  </tbody>\n",
       "</table>\n",
       "</div>"
      ],
      "text/plain": [
       "                Price      Volume  is__Weekday\n",
       "Date                                          \n",
       "2022-01-01  52.483571  196.942732            0\n",
       "2022-01-02  49.756010  189.759896            0\n",
       "2022-01-03  54.133055  199.614946            1\n",
       "2022-01-04  58.956939  225.802920            1\n",
       "2022-01-05  50.618046  192.816402            1"
      ]
     },
     "execution_count": 7,
     "metadata": {},
     "output_type": "execute_result"
    }
   ],
   "source": [
    "# a quick look\n",
    "data.head()"
   ]
  },
  {
   "cell_type": "code",
   "execution_count": 8,
   "id": "ea861dd6-fbf8-4f83-8d80-414b79f158b9",
   "metadata": {},
   "outputs": [
    {
     "name": "stdout",
     "output_type": "stream",
     "text": [
      "0\n",
      "0\n"
     ]
    }
   ],
   "source": [
    "# lets check the null values (temperature label has been dropped)\n",
    "print(data[\"Price\"].isna().sum())\n",
    "print(data[\"Volume\"].isna().sum())\n",
    "\n",
    "# price and volume numbers should be rounded \n",
    "data[\"Price\"] = np.around(data[\"Price\"].iloc[:],2)\n",
    "data[\"Volume\"] = np.around(data[\"Volume\"].iloc[:],2)"
   ]
  },
  {
   "cell_type": "code",
   "execution_count": 9,
   "id": "106da805-a134-44a5-94f6-b2cfaafaf580",
   "metadata": {},
   "outputs": [
    {
     "data": {
      "text/plain": [
       "<Figure size 2000x1000 with 0 Axes>"
      ]
     },
     "metadata": {},
     "output_type": "display_data"
    },
    {
     "data": {
      "image/png": "[encoded data removed]",
      "text/plain": [
       "<Figure size 1800x500 with 2 Axes>"
      ]
     },
     "metadata": {},
     "output_type": "display_data"
    }
   ],
   "source": [
    "# checking the outliers and negative values\n",
    "plt.figure(figsize=(20,10))\n",
    "fig, axes = plt.subplots(1, 2, figsize=(18, 5))\n",
    "sns.boxenplot(data = data[\"Price\"], color= \"#af0717\", ax=axes[0]) \n",
    "axes[0].set_title('Uncleaned Price Distribution')\n",
    "\n",
    "sns.boxenplot(data = data[\"Volume\"], color= \"#0681a0\", ax=axes[1]) \n",
    "axes[1].set_title('Uncleaned Volume Distribution')\n",
    "plt.xticks(rotation=90)\n",
    "plt.show()"
   ]
  },
  {
   "cell_type": "code",
   "execution_count": 10,
   "id": "74fe48d1-2d69-4acf-b46a-00af43e13c36",
   "metadata": {},
   "outputs": [],
   "source": [
    "# the outliers will be trimmed by using the method interquartile range (IQR) for better analysis results \n",
    "# defining the math function\n",
    "\n",
    "def iqr(column): \n",
    "    # function takes string as parameter\n",
    "    \n",
    "    q1 = np.quantile(data[column], 0.25)\n",
    "    q3 = np.quantile(data[column], 0.75)\n",
    "    diff = q3 - q1\n",
    "    \n",
    "    lower_t = q1 - (1.5 * diff)\n",
    "    upper_t = q3 + (1.5 * diff)\n",
    "    \n",
    "    return (lower_t, upper_t)"
   ]
  },
  {
   "cell_type": "code",
   "execution_count": 11,
   "id": "2f1f775b-d3ec-436b-9e90-b195164671b1",
   "metadata": {},
   "outputs": [],
   "source": [
    "# trimming process of the values\n",
    "data = data[(data[\"Price\"] < iqr(\"Price\")[1]) & (data[\"Price\"] > iqr(\"Price\")[0])]\n",
    "data = data[(data[\"Volume\"] < iqr(\"Volume\")[1]) & (data[\"Volume\"] > iqr(\"Volume\")[0])]"
   ]
  },
  {
   "cell_type": "code",
   "execution_count": 12,
   "id": "3539247a-ca74-4644-89c5-12fb99fa5cf0",
   "metadata": {},
   "outputs": [
    {
     "data": {
      "text/plain": [
       "<Figure size 2000x1000 with 0 Axes>"
      ]
     },
     "metadata": {},
     "output_type": "display_data"
    },
    {
     "data": {
      "image/png": "[encoded data removed]",
      "text/plain": [
       "<Figure size 1800x500 with 2 Axes>"
      ]
     },
     "metadata": {},
     "output_type": "display_data"
    }
   ],
   "source": [
    "# checking the cleaned version\n",
    "\n",
    "plt.figure(figsize=(20,10))\n",
    "fig, axes = plt.subplots(1, 2, figsize=(18, 5))\n",
    "sns.boxenplot(data = data[\"Price\"], color= \"#af0717\", ax=axes[0]) \n",
    "axes[0].set_title('Cleaned Price Distribution')\n",
    "\n",
    "sns.boxenplot(data = data[\"Volume\"], color= \"#0681a0\", ax=axes[1]) \n",
    "axes[1].set_title('Cleaned Volume Distribution')\n",
    "plt.xticks(rotation=90)\n",
    "plt.show()"
   ]
  },
  {
   "cell_type": "code",
   "execution_count": 13,
   "id": "7eaa83e3-dc1a-4022-832c-2357cba59d7d",
   "metadata": {},
   "outputs": [
    {
     "data": {
      "text/html": [
       "<div>\n",
       "<style scoped>\n",
       "    .dataframe tbody tr th:only-of-type {\n",
       "        vertical-align: middle;\n",
       "    }\n",
       "\n",
       "    .dataframe tbody tr th {\n",
       "        vertical-align: top;\n",
       "    }\n",
       "\n",
       "    .dataframe thead th {\n",
       "        text-align: right;\n",
       "    }\n",
       "</style>\n",
       "<table border=\"1\" class=\"dataframe\">\n",
       "  <thead>\n",
       "    <tr style=\"text-align: right;\">\n",
       "      <th></th>\n",
       "      <th>Price</th>\n",
       "      <th>Volume</th>\n",
       "      <th>is__Weekday</th>\n",
       "    </tr>\n",
       "  </thead>\n",
       "  <tbody>\n",
       "    <tr>\n",
       "      <th>count</th>\n",
       "      <td>346.000000</td>\n",
       "      <td>346.000000</td>\n",
       "      <td>346.000000</td>\n",
       "    </tr>\n",
       "    <tr>\n",
       "      <th>mean</th>\n",
       "      <td>100.074249</td>\n",
       "      <td>301.957659</td>\n",
       "      <td>0.699422</td>\n",
       "    </tr>\n",
       "    <tr>\n",
       "      <th>std</th>\n",
       "      <td>24.817506</td>\n",
       "      <td>55.136143</td>\n",
       "      <td>0.459173</td>\n",
       "    </tr>\n",
       "    <tr>\n",
       "      <th>min</th>\n",
       "      <td>46.230000</td>\n",
       "      <td>155.040000</td>\n",
       "      <td>0.000000</td>\n",
       "    </tr>\n",
       "    <tr>\n",
       "      <th>25%</th>\n",
       "      <td>84.135000</td>\n",
       "      <td>264.460000</td>\n",
       "      <td>0.000000</td>\n",
       "    </tr>\n",
       "    <tr>\n",
       "      <th>50%</th>\n",
       "      <td>100.670000</td>\n",
       "      <td>302.515000</td>\n",
       "      <td>1.000000</td>\n",
       "    </tr>\n",
       "    <tr>\n",
       "      <th>75%</th>\n",
       "      <td>116.812500</td>\n",
       "      <td>336.435000</td>\n",
       "      <td>1.000000</td>\n",
       "    </tr>\n",
       "    <tr>\n",
       "      <th>max</th>\n",
       "      <td>156.320000</td>\n",
       "      <td>434.150000</td>\n",
       "      <td>1.000000</td>\n",
       "    </tr>\n",
       "  </tbody>\n",
       "</table>\n",
       "</div>"
      ],
      "text/plain": [
       "            Price      Volume  is__Weekday\n",
       "count  346.000000  346.000000   346.000000\n",
       "mean   100.074249  301.957659     0.699422\n",
       "std     24.817506   55.136143     0.459173\n",
       "min     46.230000  155.040000     0.000000\n",
       "25%     84.135000  264.460000     0.000000\n",
       "50%    100.670000  302.515000     1.000000\n",
       "75%    116.812500  336.435000     1.000000\n",
       "max    156.320000  434.150000     1.000000"
      ]
     },
     "execution_count": 13,
     "metadata": {},
     "output_type": "execute_result"
    }
   ],
   "source": [
    "# 21 row dropped because of uncleaned or missing data\n",
    "data.describe()"
   ]
  },
  {
   "cell_type": "code",
   "execution_count": 14,
   "id": "96f267d0-620a-4939-8147-d9de031924a5",
   "metadata": {},
   "outputs": [
    {
     "data": {
      "text/html": [
       "<div>\n",
       "<style scoped>\n",
       "    .dataframe tbody tr th:only-of-type {\n",
       "        vertical-align: middle;\n",
       "    }\n",
       "\n",
       "    .dataframe tbody tr th {\n",
       "        vertical-align: top;\n",
       "    }\n",
       "\n",
       "    .dataframe thead th {\n",
       "        text-align: right;\n",
       "    }\n",
       "</style>\n",
       "<table border=\"1\" class=\"dataframe\">\n",
       "  <thead>\n",
       "    <tr style=\"text-align: right;\">\n",
       "      <th></th>\n",
       "      <th>Price</th>\n",
       "      <th>Volume</th>\n",
       "      <th>is__Weekday</th>\n",
       "    </tr>\n",
       "    <tr>\n",
       "      <th>Date</th>\n",
       "      <th></th>\n",
       "      <th></th>\n",
       "      <th></th>\n",
       "    </tr>\n",
       "  </thead>\n",
       "  <tbody>\n",
       "    <tr>\n",
       "      <th>2022-01-01</th>\n",
       "      <td>52.48</td>\n",
       "      <td>196.94</td>\n",
       "      <td>0</td>\n",
       "    </tr>\n",
       "    <tr>\n",
       "      <th>2022-01-02</th>\n",
       "      <td>49.76</td>\n",
       "      <td>189.76</td>\n",
       "      <td>0</td>\n",
       "    </tr>\n",
       "    <tr>\n",
       "      <th>2022-01-03</th>\n",
       "      <td>54.13</td>\n",
       "      <td>199.61</td>\n",
       "      <td>1</td>\n",
       "    </tr>\n",
       "    <tr>\n",
       "      <th>2022-01-04</th>\n",
       "      <td>58.96</td>\n",
       "      <td>225.80</td>\n",
       "      <td>1</td>\n",
       "    </tr>\n",
       "    <tr>\n",
       "      <th>2022-01-05</th>\n",
       "      <td>50.62</td>\n",
       "      <td>192.82</td>\n",
       "      <td>1</td>\n",
       "    </tr>\n",
       "  </tbody>\n",
       "</table>\n",
       "</div>"
      ],
      "text/plain": [
       "            Price  Volume  is__Weekday\n",
       "Date                                  \n",
       "2022-01-01  52.48  196.94            0\n",
       "2022-01-02  49.76  189.76            0\n",
       "2022-01-03  54.13  199.61            1\n",
       "2022-01-04  58.96  225.80            1\n",
       "2022-01-05  50.62  192.82            1"
      ]
     },
     "execution_count": 14,
     "metadata": {},
     "output_type": "execute_result"
    }
   ],
   "source": [
    "# exporting the dataset and final look\n",
    "data.to_csv(\"cleaned_trading_data\", encoding='utf-8')\n",
    "data.head()"
   ]
  }
 ],
 "metadata": {
  "kernelspec": {
   "display_name": "Python 3 (ipykernel)",
   "language": "python",
   "name": "python3"
  },
  "language_info": {
   "codemirror_mode": {
    "name": "ipython",
    "version": 3
   },
   "file_extension": ".py",
   "mimetype": "text/x-python",
   "name": "python",
   "nbconvert_exporter": "python",
   "pygments_lexer": "ipython3",
   "version": "3.12.4"
  }
 },
 "nbformat": 4,
 "nbformat_minor": 5
}
